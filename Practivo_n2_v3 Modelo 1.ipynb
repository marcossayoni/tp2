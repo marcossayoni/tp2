{
 "cells": [
  {
   "cell_type": "markdown",
   "metadata": {},
   "source": [
    "## Trabajo Práctico N°1\n",
    "\n",
    "*Introducción*\n",
    "\n",
    "Analizar el dataset con datos del primer semestre del 2017 de la inmobiliaria properatti.\n",
    "Este primer paso deberá servir para poder realizar modelos de predicción utilizando regresiones.\n",
    "\n",
    "*Objetivos:*\n",
    "\n",
    "\n",
    "1.- Efectuar una limpieza del dataset provisto. Particularmente, deberá diseñar estrategias para lidiar con los datos perdidos en ciertas variables.\n",
    "\n",
    "2-  Realizar un análisis descriptivo de las principales variables.\n",
    "\n",
    "3.- Crear nuevas columnas a partir de las características dadas que puedan tener valor predictivo.\n"
   ]
  },
  {
   "cell_type": "markdown",
   "metadata": {},
   "source": [
    "## Inicio\n",
    "**Importación de librerías**<br>"
   ]
  },
  {
   "cell_type": "code",
   "execution_count": 1,
   "metadata": {},
   "outputs": [],
   "source": [
    "#Importo las librerias que deseo usar\n",
    "import pandas as pd\n",
    "import matplotlib.pyplot as plt\n",
    "import seaborn as sns ; sns.set(color_codes=True)\n",
    "import numpy as np\n",
    "%matplotlib inline"
   ]
  },
  {
   "cell_type": "markdown",
   "metadata": {},
   "source": [
    "Definición de algunas funciones y parámetros a utilizar en la notebook. Esto nos permitirá aplicar distintos tipos de implementaciones al modelo para probar mejor la configuracion."
   ]
  },
  {
   "cell_type": "code",
   "execution_count": 2,
   "metadata": {},
   "outputs": [],
   "source": [
    "# Permite calcular la superficie por cantidad de ambientes, para darle un peso correcto a los ambientes.\n",
    "# Este valor no se utiliza si UTILIZAR_ROOMS es False\n",
    "CALCULAR_SUPERFICIE_POR_AMBIENTE = True\n",
    "\n",
    "# Permite indicar si utilizamos el campo rooms para nuestro modelo o no.\n",
    "# Con True mejora el score r2\n",
    "UTILIZAR_ROOMS = True\n",
    "\n",
    "# indica si se calcula la superficie por cada ubicación con las dummies.\n",
    "PLACE_X_SURFACE = True\n",
    "\n",
    "# Indica si la superficie debe ser calculada por property type en las dummies de Property Type\n",
    "PROPERTY_TYPE_X_SURFACE = True\n",
    "\n",
    "# Indica si elimino los outliers de precios del dataset\n",
    "ELIMINAR_OUTLIER_PRECIOS = True\n",
    "\n",
    "# Indica que se deben eliminar las superficies que tienen un valor menor o igual a cero\n",
    "ELIMINAR_SUPERFICIES_EN_CERO_Y_NULL = False\n",
    "\n",
    "# Indica que se deben eliminar las superficies que son outliers\n",
    "ELIMINAR_OUTLIER_SUPERFICIES = True\n",
    "\n",
    "# Indica si se deben eliminar los registros duplicados\n",
    "ELIMINAR_DUPLICADOS = True\n",
    "\n",
    "# Si uso precio o no como variable a predecir si es false uso precio_usd_por_m2\n",
    "PRECIO = True\n",
    "\n",
    "# Identifica el campo a utilizar como superficie\n",
    "CAMPO_SUPERFICIE = 'total_m2'"
   ]
  },
  {
   "cell_type": "markdown",
   "metadata": {},
   "source": [
    "**Datos del dataframe**<br>\n",
    "Esta función me ayuda a ver como esta constituido el dataframe mostrandolo de una manera más \n",
    "didáctica. Me muestra la cantidad de registros,cuantos son nulos, cuantos no nulos, su porcentaje y el tipo de datos"
   ]
  },
  {
   "cell_type": "code",
   "execution_count": 3,
   "metadata": {},
   "outputs": [],
   "source": [
    "def datos_df(df):\n",
    "        \n",
    "    # Cantidad total de registros\n",
    "    cant_registros = len(df)\n",
    "\n",
    "    # Creo un dataframe para mostrar la estructura del set de datos\n",
    "\n",
    "    valores_df = pd.DataFrame(columns=['No Nulos','Nulos','% Nulos','Tipo'])\n",
    "\n",
    "    # Por cada columna\n",
    "    for columna in df.columns:\n",
    "        \n",
    "        # Cantidad de Valores nulos\n",
    "        val_no_null = df[columna].notnull().sum()\n",
    "        \n",
    "        # Cantidad de Valores nulos\n",
    "        val_null = df[columna].isnull().sum()\n",
    "        \n",
    "        # Porcentaje de Valores Nulos en el dataset\n",
    "        porcentaje_null = val_null / cant_registros * 100\n",
    "        \n",
    "        # El tipo de dato de la columna\n",
    "        tipo_dato = df[columna].dtype\n",
    "        \n",
    "        # Agrego la fila al dataframe\n",
    "        valores_df.loc[columna] = [val_no_null,val_null, porcentaje_null, tipo_dato]\n",
    "    \n",
    "    # Ordeno los valores por % de nulos de menor a mayor\n",
    "    return valores_df.sort_values(by='% Nulos', ascending=True)"
   ]
  },
  {
   "cell_type": "markdown",
   "metadata": {},
   "source": [
    "Esta función parsea un registro y devuelve una lista con todas las palabras de un registro en una lista\n",
    "Sirve para explorar la información dentro de la descripción y sacar datos útiles. Como por ejemplo las habitaciones, metros cuadrados, amenities, etc.."
   ]
  },
  {
   "cell_type": "code",
   "execution_count": 4,
   "metadata": {},
   "outputs": [],
   "source": [
    "def devuelve_palabras(registro):\n",
    "    if isinstance(registro, str):\n",
    "        return [ registro.split()[i] + ' ' + registro.split()[1+i]  for i, palabra in enumerate(registro.split()) if palabra.isnumeric() and i <len(registro.split())-1]\n",
    "    else:\n",
    "        return 0"
   ]
  },
  {
   "cell_type": "markdown",
   "metadata": {},
   "source": [
    "Imputo los valores null con una bandera (flag)\n",
    "Creamos una función que nos imputa a una columna, el valor indicado y crea una nueva columna que indica si el registro fue imputado. Esto para llevar un control de lo que se va haciendo."
   ]
  },
  {
   "cell_type": "code",
   "execution_count": 5,
   "metadata": {},
   "outputs": [],
   "source": [
    "def imputo_null(col_name,df, value, create_flag = True):\n",
    "    \"Imputa los valores NaN con el valor de value y crea una columna que indica si al registro\" \n",
    "    \"se le imputo un valor o no\"\n",
    "    \n",
    "    if (create_flag):\n",
    "        # Creamos el nombre de la columna FLAG\n",
    "        flag_col = col_name + '_was_nan'\n",
    "    \n",
    "        # Creamos la columna con los valores true o false donde corresponda\n",
    "        df[flag_col] = df[col_name].isnull().astype(int)\n",
    "    \n",
    "    # Asignamos 0 a los registros que son null\n",
    "    df.loc[df[col_name].isnull(),col_name] = value"
   ]
  },
  {
   "cell_type": "markdown",
   "metadata": {},
   "source": [
    "Cambio valores de string dentro de un dataset. Le paso el valor a buscar y reemplazar y el nombre de la columna y el dataframe."
   ]
  },
  {
   "cell_type": "code",
   "execution_count": 6,
   "metadata": {},
   "outputs": [],
   "source": [
    "#Todo antes lo paso a string para evitar problemas\n",
    "def cambio_valor(columna,valor_buscado,reemplazo,df):\n",
    "#primero calculo en numero de la columna    \n",
    "    count=0\n",
    "    for col in df.columns:\n",
    "        if col==columna:\n",
    "            numero_col=count\n",
    "        count=count+1\n",
    "    \n",
    "    count=0\n",
    "    countaux=0\n",
    "    for palabra in df1[CAMPO_SUPERFICIE].astype(str):\n",
    "        if palabra.find(valor_buscado)!=-1:\n",
    "            numero_fil=count\n",
    "            df.iloc[numero_fil,numero_col]=palabra.replace(valor_buscado,reemplazo)\n",
    "            countaux=countaux+1\n",
    "        count=count+1\n",
    "    return 'se reemplazaron '+ str(countaux) + ' valores'"
   ]
  },
  {
   "cell_type": "markdown",
   "metadata": {},
   "source": [
    "## Importo el dataset"
   ]
  },
  {
   "cell_type": "code",
   "execution_count": 7,
   "metadata": {},
   "outputs": [],
   "source": [
    "#importo el archivo de properati\n",
    "properatti = pd.read_csv(\"properatti.csv\")"
   ]
  },
  {
   "cell_type": "markdown",
   "metadata": {},
   "source": [
    "1. Realizo un primer análisis viendo la estructura del dataframe con la función **datos_df**\n",
    "    + Tomo las columnas que me interesan para este primer análisis según lo que indica el enunciado.\n",
    "    + Luego cambio el nombre de las columnas para hacerlo más didactico."
   ]
  },
  {
   "cell_type": "code",
   "execution_count": 8,
   "metadata": {},
   "outputs": [
    {
     "data": {
      "text/html": [
       "<div>\n",
       "<style scoped>\n",
       "    .dataframe tbody tr th:only-of-type {\n",
       "        vertical-align: middle;\n",
       "    }\n",
       "\n",
       "    .dataframe tbody tr th {\n",
       "        vertical-align: top;\n",
       "    }\n",
       "\n",
       "    .dataframe thead th {\n",
       "        text-align: right;\n",
       "    }\n",
       "</style>\n",
       "<table border=\"1\" class=\"dataframe\">\n",
       "  <thead>\n",
       "    <tr style=\"text-align: right;\">\n",
       "      <th></th>\n",
       "      <th>No Nulos</th>\n",
       "      <th>Nulos</th>\n",
       "      <th>% Nulos</th>\n",
       "      <th>Tipo</th>\n",
       "    </tr>\n",
       "  </thead>\n",
       "  <tbody>\n",
       "    <tr>\n",
       "      <th>Unnamed: 0</th>\n",
       "      <td>121220</td>\n",
       "      <td>0</td>\n",
       "      <td>0.000000</td>\n",
       "      <td>int64</td>\n",
       "    </tr>\n",
       "    <tr>\n",
       "      <th>operation</th>\n",
       "      <td>121220</td>\n",
       "      <td>0</td>\n",
       "      <td>0.000000</td>\n",
       "      <td>object</td>\n",
       "    </tr>\n",
       "    <tr>\n",
       "      <th>property_type</th>\n",
       "      <td>121220</td>\n",
       "      <td>0</td>\n",
       "      <td>0.000000</td>\n",
       "      <td>object</td>\n",
       "    </tr>\n",
       "    <tr>\n",
       "      <th>place_with_parent_names</th>\n",
       "      <td>121220</td>\n",
       "      <td>0</td>\n",
       "      <td>0.000000</td>\n",
       "      <td>object</td>\n",
       "    </tr>\n",
       "    <tr>\n",
       "      <th>country_name</th>\n",
       "      <td>121220</td>\n",
       "      <td>0</td>\n",
       "      <td>0.000000</td>\n",
       "      <td>object</td>\n",
       "    </tr>\n",
       "    <tr>\n",
       "      <th>state_name</th>\n",
       "      <td>121220</td>\n",
       "      <td>0</td>\n",
       "      <td>0.000000</td>\n",
       "      <td>object</td>\n",
       "    </tr>\n",
       "    <tr>\n",
       "      <th>properati_url</th>\n",
       "      <td>121220</td>\n",
       "      <td>0</td>\n",
       "      <td>0.000000</td>\n",
       "      <td>object</td>\n",
       "    </tr>\n",
       "    <tr>\n",
       "      <th>title</th>\n",
       "      <td>121220</td>\n",
       "      <td>0</td>\n",
       "      <td>0.000000</td>\n",
       "      <td>object</td>\n",
       "    </tr>\n",
       "    <tr>\n",
       "      <th>description</th>\n",
       "      <td>121218</td>\n",
       "      <td>2</td>\n",
       "      <td>0.001650</td>\n",
       "      <td>object</td>\n",
       "    </tr>\n",
       "    <tr>\n",
       "      <th>place_name</th>\n",
       "      <td>121197</td>\n",
       "      <td>23</td>\n",
       "      <td>0.018974</td>\n",
       "      <td>object</td>\n",
       "    </tr>\n",
       "    <tr>\n",
       "      <th>image_thumbnail</th>\n",
       "      <td>118108</td>\n",
       "      <td>3112</td>\n",
       "      <td>2.567233</td>\n",
       "      <td>object</td>\n",
       "    </tr>\n",
       "    <tr>\n",
       "      <th>geonames_id</th>\n",
       "      <td>102503</td>\n",
       "      <td>18717</td>\n",
       "      <td>15.440521</td>\n",
       "      <td>float64</td>\n",
       "    </tr>\n",
       "    <tr>\n",
       "      <th>surface_covered_in_m2</th>\n",
       "      <td>101313</td>\n",
       "      <td>19907</td>\n",
       "      <td>16.422208</td>\n",
       "      <td>float64</td>\n",
       "    </tr>\n",
       "    <tr>\n",
       "      <th>price</th>\n",
       "      <td>100810</td>\n",
       "      <td>20410</td>\n",
       "      <td>16.837156</td>\n",
       "      <td>float64</td>\n",
       "    </tr>\n",
       "    <tr>\n",
       "      <th>price_aprox_local_currency</th>\n",
       "      <td>100810</td>\n",
       "      <td>20410</td>\n",
       "      <td>16.837156</td>\n",
       "      <td>float64</td>\n",
       "    </tr>\n",
       "    <tr>\n",
       "      <th>price_aprox_usd</th>\n",
       "      <td>100810</td>\n",
       "      <td>20410</td>\n",
       "      <td>16.837156</td>\n",
       "      <td>float64</td>\n",
       "    </tr>\n",
       "    <tr>\n",
       "      <th>currency</th>\n",
       "      <td>100809</td>\n",
       "      <td>20411</td>\n",
       "      <td>16.837981</td>\n",
       "      <td>object</td>\n",
       "    </tr>\n",
       "    <tr>\n",
       "      <th>price_per_m2</th>\n",
       "      <td>87658</td>\n",
       "      <td>33562</td>\n",
       "      <td>27.686850</td>\n",
       "      <td>float64</td>\n",
       "    </tr>\n",
       "    <tr>\n",
       "      <th>surface_total_in_m2</th>\n",
       "      <td>81892</td>\n",
       "      <td>39328</td>\n",
       "      <td>32.443491</td>\n",
       "      <td>float64</td>\n",
       "    </tr>\n",
       "    <tr>\n",
       "      <th>lat</th>\n",
       "      <td>69670</td>\n",
       "      <td>51550</td>\n",
       "      <td>42.525986</td>\n",
       "      <td>float64</td>\n",
       "    </tr>\n",
       "    <tr>\n",
       "      <th>lat-lon</th>\n",
       "      <td>69670</td>\n",
       "      <td>51550</td>\n",
       "      <td>42.525986</td>\n",
       "      <td>object</td>\n",
       "    </tr>\n",
       "    <tr>\n",
       "      <th>lon</th>\n",
       "      <td>69670</td>\n",
       "      <td>51550</td>\n",
       "      <td>42.525986</td>\n",
       "      <td>float64</td>\n",
       "    </tr>\n",
       "    <tr>\n",
       "      <th>price_usd_per_m2</th>\n",
       "      <td>68617</td>\n",
       "      <td>52603</td>\n",
       "      <td>43.394654</td>\n",
       "      <td>float64</td>\n",
       "    </tr>\n",
       "    <tr>\n",
       "      <th>rooms</th>\n",
       "      <td>47390</td>\n",
       "      <td>73830</td>\n",
       "      <td>60.905791</td>\n",
       "      <td>float64</td>\n",
       "    </tr>\n",
       "    <tr>\n",
       "      <th>expenses</th>\n",
       "      <td>14262</td>\n",
       "      <td>106958</td>\n",
       "      <td>88.234615</td>\n",
       "      <td>float64</td>\n",
       "    </tr>\n",
       "    <tr>\n",
       "      <th>floor</th>\n",
       "      <td>7899</td>\n",
       "      <td>113321</td>\n",
       "      <td>93.483749</td>\n",
       "      <td>float64</td>\n",
       "    </tr>\n",
       "  </tbody>\n",
       "</table>\n",
       "</div>"
      ],
      "text/plain": [
       "                           No Nulos   Nulos    % Nulos     Tipo\n",
       "Unnamed: 0                   121220       0   0.000000    int64\n",
       "operation                    121220       0   0.000000   object\n",
       "property_type                121220       0   0.000000   object\n",
       "place_with_parent_names      121220       0   0.000000   object\n",
       "country_name                 121220       0   0.000000   object\n",
       "state_name                   121220       0   0.000000   object\n",
       "properati_url                121220       0   0.000000   object\n",
       "title                        121220       0   0.000000   object\n",
       "description                  121218       2   0.001650   object\n",
       "place_name                   121197      23   0.018974   object\n",
       "image_thumbnail              118108    3112   2.567233   object\n",
       "geonames_id                  102503   18717  15.440521  float64\n",
       "surface_covered_in_m2        101313   19907  16.422208  float64\n",
       "price                        100810   20410  16.837156  float64\n",
       "price_aprox_local_currency   100810   20410  16.837156  float64\n",
       "price_aprox_usd              100810   20410  16.837156  float64\n",
       "currency                     100809   20411  16.837981   object\n",
       "price_per_m2                  87658   33562  27.686850  float64\n",
       "surface_total_in_m2           81892   39328  32.443491  float64\n",
       "lat                           69670   51550  42.525986  float64\n",
       "lat-lon                       69670   51550  42.525986   object\n",
       "lon                           69670   51550  42.525986  float64\n",
       "price_usd_per_m2              68617   52603  43.394654  float64\n",
       "rooms                         47390   73830  60.905791  float64\n",
       "expenses                      14262  106958  88.234615  float64\n",
       "floor                          7899  113321  93.483749  float64"
      ]
     },
     "execution_count": 8,
     "metadata": {},
     "output_type": "execute_result"
    }
   ],
   "source": [
    "datos_df(properatti)"
   ]
  },
  {
   "cell_type": "code",
   "execution_count": 9,
   "metadata": {},
   "outputs": [],
   "source": [
    "#tomo solo las columnas que podrían llegar a darme ciertas features interesentas para el análisis\n",
    "\n",
    "df=pd.DataFrame(properatti,columns=['property_type','place_name','place_with_parent_names','state_name','lat','lon','price','currency','price_aprox_local_currency','price_aprox_usd','surface_total_in_m2','surface_covered_in_m2','price_usd_per_m2','price_per_m2','floor','rooms','expenses','description','title'])\n",
    "\n",
    "#Ahora cambio el nombre de los campos para hacerlo más didactico\n",
    "\n",
    "df.columns=['tipo_propiedad','localidad_barrio','ubicacion_completa','provincia_distrito','lat','lon','precio','moneda','precio_aprox_ars','precio_aprox_usd','total_m2','m2_cubiertos','precio_usd_por_m2','precio_por_m2','piso','habitaciones','expensas','descripcion','titulo']\n",
    "\n",
    "#primer forma del dataset se lo asigno a df1\n",
    "df1=df\n"
   ]
  },
  {
   "cell_type": "markdown",
   "metadata": {},
   "source": [
    "## Observación de registros iniciales\n",
    "Observamos los primeros registros para entender como están representados los datos."
   ]
  },
  {
   "cell_type": "code",
   "execution_count": 10,
   "metadata": {},
   "outputs": [
    {
     "data": {
      "text/html": [
       "<div>\n",
       "<style scoped>\n",
       "    .dataframe tbody tr th:only-of-type {\n",
       "        vertical-align: middle;\n",
       "    }\n",
       "\n",
       "    .dataframe tbody tr th {\n",
       "        vertical-align: top;\n",
       "    }\n",
       "\n",
       "    .dataframe thead th {\n",
       "        text-align: right;\n",
       "    }\n",
       "</style>\n",
       "<table border=\"1\" class=\"dataframe\">\n",
       "  <thead>\n",
       "    <tr style=\"text-align: right;\">\n",
       "      <th></th>\n",
       "      <th>tipo_propiedad</th>\n",
       "      <th>localidad_barrio</th>\n",
       "      <th>ubicacion_completa</th>\n",
       "      <th>provincia_distrito</th>\n",
       "      <th>lat</th>\n",
       "      <th>lon</th>\n",
       "      <th>precio</th>\n",
       "      <th>moneda</th>\n",
       "      <th>precio_aprox_ars</th>\n",
       "      <th>precio_aprox_usd</th>\n",
       "      <th>total_m2</th>\n",
       "      <th>m2_cubiertos</th>\n",
       "      <th>precio_usd_por_m2</th>\n",
       "      <th>precio_por_m2</th>\n",
       "      <th>piso</th>\n",
       "      <th>habitaciones</th>\n",
       "      <th>expensas</th>\n",
       "      <th>descripcion</th>\n",
       "      <th>titulo</th>\n",
       "    </tr>\n",
       "  </thead>\n",
       "  <tbody>\n",
       "    <tr>\n",
       "      <th>0</th>\n",
       "      <td>PH</td>\n",
       "      <td>Mataderos</td>\n",
       "      <td>|Argentina|Capital Federal|Mataderos|</td>\n",
       "      <td>Capital Federal</td>\n",
       "      <td>-34.661824</td>\n",
       "      <td>-58.508839</td>\n",
       "      <td>62000.0</td>\n",
       "      <td>USD</td>\n",
       "      <td>1093959.0</td>\n",
       "      <td>62000.0</td>\n",
       "      <td>55.0</td>\n",
       "      <td>40.0</td>\n",
       "      <td>1127.272727</td>\n",
       "      <td>1550.000000</td>\n",
       "      <td>NaN</td>\n",
       "      <td>NaN</td>\n",
       "      <td>NaN</td>\n",
       "      <td>2 AMBIENTES TIPO CASA PLANTA BAJA POR PASILLO,...</td>\n",
       "      <td>2 AMB TIPO CASA SIN EXPENSAS EN PB</td>\n",
       "    </tr>\n",
       "    <tr>\n",
       "      <th>1</th>\n",
       "      <td>apartment</td>\n",
       "      <td>La Plata</td>\n",
       "      <td>|Argentina|Bs.As. G.B.A. Zona Sur|La Plata|</td>\n",
       "      <td>Bs.As. G.B.A. Zona Sur</td>\n",
       "      <td>-34.903883</td>\n",
       "      <td>-57.964330</td>\n",
       "      <td>150000.0</td>\n",
       "      <td>USD</td>\n",
       "      <td>2646675.0</td>\n",
       "      <td>150000.0</td>\n",
       "      <td>NaN</td>\n",
       "      <td>NaN</td>\n",
       "      <td>NaN</td>\n",
       "      <td>NaN</td>\n",
       "      <td>NaN</td>\n",
       "      <td>NaN</td>\n",
       "      <td>NaN</td>\n",
       "      <td>Venta de departamento en décimo piso al frente...</td>\n",
       "      <td>VENTA Depto 2 dorm. a estrenar 7 e/ 36 y 37   ...</td>\n",
       "    </tr>\n",
       "    <tr>\n",
       "      <th>2</th>\n",
       "      <td>apartment</td>\n",
       "      <td>Mataderos</td>\n",
       "      <td>|Argentina|Capital Federal|Mataderos|</td>\n",
       "      <td>Capital Federal</td>\n",
       "      <td>-34.652262</td>\n",
       "      <td>-58.522982</td>\n",
       "      <td>72000.0</td>\n",
       "      <td>USD</td>\n",
       "      <td>1270404.0</td>\n",
       "      <td>72000.0</td>\n",
       "      <td>55.0</td>\n",
       "      <td>55.0</td>\n",
       "      <td>1309.090909</td>\n",
       "      <td>1309.090909</td>\n",
       "      <td>NaN</td>\n",
       "      <td>NaN</td>\n",
       "      <td>NaN</td>\n",
       "      <td>2 AMBIENTES 3ER PISO LATERAL LIVING COMEDOR AM...</td>\n",
       "      <td>2 AMB 3ER PISO CON ASCENSOR APTO CREDITO</td>\n",
       "    </tr>\n",
       "    <tr>\n",
       "      <th>3</th>\n",
       "      <td>PH</td>\n",
       "      <td>Liniers</td>\n",
       "      <td>|Argentina|Capital Federal|Liniers|</td>\n",
       "      <td>Capital Federal</td>\n",
       "      <td>-34.647797</td>\n",
       "      <td>-58.516424</td>\n",
       "      <td>95000.0</td>\n",
       "      <td>USD</td>\n",
       "      <td>1676227.5</td>\n",
       "      <td>95000.0</td>\n",
       "      <td>NaN</td>\n",
       "      <td>NaN</td>\n",
       "      <td>NaN</td>\n",
       "      <td>NaN</td>\n",
       "      <td>NaN</td>\n",
       "      <td>NaN</td>\n",
       "      <td>NaN</td>\n",
       "      <td>PH 3 ambientes con patio. Hay 3 deptos en lote...</td>\n",
       "      <td>PH 3 amb. cfte. reciclado</td>\n",
       "    </tr>\n",
       "    <tr>\n",
       "      <th>4</th>\n",
       "      <td>apartment</td>\n",
       "      <td>Centro</td>\n",
       "      <td>|Argentina|Buenos Aires Costa Atlántica|Mar de...</td>\n",
       "      <td>Buenos Aires Costa Atlántica</td>\n",
       "      <td>-38.002626</td>\n",
       "      <td>-57.549447</td>\n",
       "      <td>64000.0</td>\n",
       "      <td>USD</td>\n",
       "      <td>1129248.0</td>\n",
       "      <td>64000.0</td>\n",
       "      <td>35.0</td>\n",
       "      <td>35.0</td>\n",
       "      <td>1828.571429</td>\n",
       "      <td>1828.571429</td>\n",
       "      <td>NaN</td>\n",
       "      <td>NaN</td>\n",
       "      <td>NaN</td>\n",
       "      <td>DEPARTAMENTO CON FANTÁSTICA ILUMINACIÓN NATURA...</td>\n",
       "      <td>DEPTO 2 AMB AL CONTRAFRENTE ZONA CENTRO/PLAZA ...</td>\n",
       "    </tr>\n",
       "  </tbody>\n",
       "</table>\n",
       "</div>"
      ],
      "text/plain": [
       "  tipo_propiedad localidad_barrio  \\\n",
       "0             PH        Mataderos   \n",
       "1      apartment         La Plata   \n",
       "2      apartment        Mataderos   \n",
       "3             PH          Liniers   \n",
       "4      apartment           Centro   \n",
       "\n",
       "                                  ubicacion_completa  \\\n",
       "0              |Argentina|Capital Federal|Mataderos|   \n",
       "1        |Argentina|Bs.As. G.B.A. Zona Sur|La Plata|   \n",
       "2              |Argentina|Capital Federal|Mataderos|   \n",
       "3                |Argentina|Capital Federal|Liniers|   \n",
       "4  |Argentina|Buenos Aires Costa Atlántica|Mar de...   \n",
       "\n",
       "             provincia_distrito        lat        lon    precio moneda  \\\n",
       "0               Capital Federal -34.661824 -58.508839   62000.0    USD   \n",
       "1        Bs.As. G.B.A. Zona Sur -34.903883 -57.964330  150000.0    USD   \n",
       "2               Capital Federal -34.652262 -58.522982   72000.0    USD   \n",
       "3               Capital Federal -34.647797 -58.516424   95000.0    USD   \n",
       "4  Buenos Aires Costa Atlántica -38.002626 -57.549447   64000.0    USD   \n",
       "\n",
       "   precio_aprox_ars  precio_aprox_usd  total_m2  m2_cubiertos  \\\n",
       "0         1093959.0           62000.0      55.0          40.0   \n",
       "1         2646675.0          150000.0       NaN           NaN   \n",
       "2         1270404.0           72000.0      55.0          55.0   \n",
       "3         1676227.5           95000.0       NaN           NaN   \n",
       "4         1129248.0           64000.0      35.0          35.0   \n",
       "\n",
       "   precio_usd_por_m2  precio_por_m2  piso  habitaciones  expensas  \\\n",
       "0        1127.272727    1550.000000   NaN           NaN       NaN   \n",
       "1                NaN            NaN   NaN           NaN       NaN   \n",
       "2        1309.090909    1309.090909   NaN           NaN       NaN   \n",
       "3                NaN            NaN   NaN           NaN       NaN   \n",
       "4        1828.571429    1828.571429   NaN           NaN       NaN   \n",
       "\n",
       "                                         descripcion  \\\n",
       "0  2 AMBIENTES TIPO CASA PLANTA BAJA POR PASILLO,...   \n",
       "1  Venta de departamento en décimo piso al frente...   \n",
       "2  2 AMBIENTES 3ER PISO LATERAL LIVING COMEDOR AM...   \n",
       "3  PH 3 ambientes con patio. Hay 3 deptos en lote...   \n",
       "4  DEPARTAMENTO CON FANTÁSTICA ILUMINACIÓN NATURA...   \n",
       "\n",
       "                                              titulo  \n",
       "0                 2 AMB TIPO CASA SIN EXPENSAS EN PB  \n",
       "1  VENTA Depto 2 dorm. a estrenar 7 e/ 36 y 37   ...  \n",
       "2           2 AMB 3ER PISO CON ASCENSOR APTO CREDITO  \n",
       "3                       PH 3 amb. cfte. reciclado     \n",
       "4  DEPTO 2 AMB AL CONTRAFRENTE ZONA CENTRO/PLAZA ...  "
      ]
     },
     "execution_count": 10,
     "metadata": {},
     "output_type": "execute_result"
    }
   ],
   "source": [
    "df1.head()"
   ]
  },
  {
   "cell_type": "markdown",
   "metadata": {},
   "source": [
    "***Aclaración sobre los nombres del los campos***<br>\n",
    "Por el tamaño del dataset y como herramienta de exploración se utilizo el excel. Esto, entendiendo que el trabajo de análisis puede realizarse con cualquier herramienta que se ajuste mejor a dicho fin, en base al conocimiento del alumno.\n",
    "\n",
    "En función de lo anterior se pudo ver:\n",
    "1. Mejorar el nombre de los campos\n",
    "2. Se define el campo **localidad_barrio** porque según la estructura ese campo solo posee los valores referentes a localidades de grandes Distritos o barrios dentro de las localidades por ejemplo Capital Federal.\n",
    "3. Se define el campo **provincia_distrito** porque según la estructura ese campo solo posee los valores referentes a grandes distritos/departamentos y provincias."
   ]
  },
  {
   "cell_type": "markdown",
   "metadata": {},
   "source": [
    "## Comienzo con algo de análisis de datos\n",
    "Veo como están correlacionados las variables \n",
    "***Posibles features que definen el precio / precio por m2 de una propiedad***\n",
    "\n",
    "**tipo_propiedad ; localidad_barrio ; provincia_distrito ; total_m2 ; superficie_cubierta_m2 ; habitaciones ; piso; también otras características de la propiedad como servicios asociados, habitaciones, amenities, etc..**"
   ]
  },
  {
   "cell_type": "code",
   "execution_count": 11,
   "metadata": {},
   "outputs": [
    {
     "data": {
      "text/plain": [
       "(array([0.5, 1.5, 2.5, 3.5, 4.5, 5.5]), <a list of 6 Text xticklabel objects>)"
      ]
     },
     "execution_count": 11,
     "metadata": {},
     "output_type": "execute_result"
    },
    {
     "data": {
      "image/png": "[encoded data removed]",
      "text/plain": [
       "<Figure size 648x432 with 2 Axes>"
      ]
     },
     "metadata": {
      "needs_background": "light"
     },
     "output_type": "display_data"
    }
   ],
   "source": [
    "plt.figure(figsize=(9,6))\n",
    "sns.heatmap(df1[['m2_cubiertos','total_m2','precio_aprox_usd','precio_usd_por_m2','precio_por_m2','habitaciones']].corr(), annot=True, annot_kws={\"size\": 18})\n",
    "plt.title('Correlación de variables', fontsize=20)\n",
    "plt.yticks(fontsize=14)\n",
    "plt.xticks(fontsize=14)"
   ]
  },
  {
   "cell_type": "markdown",
   "metadata": {},
   "source": [
    "## Comenzando con algo de limpieza\n",
    "\n",
    "1. Según el análisis de nulos y teniendo en cuenta que una feature importante es la ubicación, voy a tratar de llenar los 23 nulos de **localidad_barrio** tratando de sacar dicho valor de ubicacion_completa o de algún campo texto como **descripcion o título**\n",
    "2. Voy pasar todo el precio de las propiedades a dólares. Para tener un referencia en moneda dura. Por el análisis en excel realizado y sumado a la puesta en común del TP se define que el **precio_aprox_usd** es el que mejor calidad posee.\n",
    "3. Voy a analizar los valores de precios por metro cuadrado. Y para este caso solo voy a usar el campo **precio_usd_por_m2** completando los faltatantes usando el campo **precio_por_m2**.\n",
    "\n"
   ]
  },
  {
   "cell_type": "code",
   "execution_count": 12,
   "metadata": {},
   "outputs": [
    {
     "data": {
      "text/plain": [
       "6489     |Argentina|Bs.As. G.B.A. Zona Norte|Tigre||\n",
       "10201    |Argentina|Bs.As. G.B.A. Zona Norte|Tigre||\n",
       "11451    |Argentina|Bs.As. G.B.A. Zona Norte|Tigre||\n",
       "14839    |Argentina|Bs.As. G.B.A. Zona Norte|Tigre||\n",
       "18622    |Argentina|Bs.As. G.B.A. Zona Norte|Tigre||\n",
       "Name: ubicacion_completa, dtype: object"
      ]
     },
     "execution_count": 12,
     "metadata": {},
     "output_type": "execute_result"
    }
   ],
   "source": [
    "#Veo si puedo completar los valores nulos de localidad_barrio usando el campo ubicación_completa\n",
    "df1.loc[(df1.localidad_barrio.isnull()), 'ubicacion_completa'].head()"
   ]
  },
  {
   "cell_type": "markdown",
   "metadata": {},
   "source": [
    "Se puede ver que no dispongo de ese valor voy a utilizar los campos **título** y **descripción**\n",
    "\n",
    "Luego de analizar el campo **titulo** se puede ver que el nombre del barrio corresponde a Barrio Privado Santa Maria para la mayoría de los casos, Barrio El Palmar, Barrio Las Tipas y Barrio Privado La Alameda. \n",
    "\n",
    "Para poder detectar esos casos se utlizó el código comentado que esta abajo en donde se tuvieron que ver las 23 celdas del campo **titulo** y **descripcion**."
   ]
  },
  {
   "cell_type": "code",
   "execution_count": 13,
   "metadata": {},
   "outputs": [],
   "source": [
    "#Veo que información puedo sacar con titulo y descripcion para los casos nulos de localidad_barrio\n",
    "#df1.loc[df1.localidad_barrio.isnull(),['titulo','descripcion']]\n",
    "\n",
    "#recupero el DataFrame y veo en titulo lo que contenga el nombre del Barrio SANTA MARIA solo recupero 15 y son 23\n",
    "#df1.loc[(df1['titulo'].str.\\\n",
    "#contains('SANTA MARIA|Santa Ma', case=False,regex=True)) & df1.localidad_barrio.isnull(),['localidad_barrio','ubicacion_completa','descripcion','titulo']]\n",
    "\n",
    "#agrego en localidad barrio Santa María- es un barrio cerrado según lo buscado en internet\n",
    "df1.loc[(df1['titulo'].str.\\\n",
    "contains('SANTA MARIA|Santa Ma', case=False)) & df1.localidad_barrio.isnull(),'localidad_barrio']='Barrio Privado Santa Maria'\n",
    "\n",
    "#ahora completo a mano usando el indice, con la función de arriba saque los nulos que me quedan\n",
    "df1.iloc[38856,1]=\"Barrio Privado Santa Maria\"\n",
    "df1.iloc[45970,1]=\"Barrio El Palmar\"\n",
    "df1.iloc[53130,1]=\"Barrio Privado Santa Maria\"\n",
    "df1.iloc[62411,1]=\"Barrio Las Tipas\"\n",
    "df1.iloc[62413,1]=\"Barrio Privado Santa Maria\"\n",
    "df1.iloc[18622,1]=\"Barrio Privado Santa Maria\"\n",
    "df1.iloc[46642,1]=\"Barrio Privado Santa Maria\"\n",
    "df1.iloc[63849,1]=\"Barrio Privado La Alameda\""
   ]
  },
  {
   "cell_type": "markdown",
   "metadata": {},
   "source": [
    "Elimino la columna ubicacion_completa porque es redundantes"
   ]
  },
  {
   "cell_type": "code",
   "execution_count": 14,
   "metadata": {},
   "outputs": [],
   "source": [
    "df1 = df1.drop('ubicacion_completa', axis=1)"
   ]
  },
  {
   "cell_type": "markdown",
   "metadata": {},
   "source": [
    "## Superficie\n",
    "Analizamos las variables de superficie (**total_m2** y **m2_cubierto**) y su relación con el precio (**precio**) para identificar si el precio está basado en la superficie cubierta o en la superficie total."
   ]
  },
  {
   "cell_type": "markdown",
   "metadata": {},
   "source": [
    "## Análisis de precio vs total de m2 y m2 cubiertos\n",
    "Identificamos que el precio de las propiedades es por m2 totales (**total_m2**), calculando el precio / precio por metro cuadrado. Esto nos devuelve un valor que cuando lo comparamos contra superficie total vemos que es exactamente el mismo, por lo que encontramos que hay una relación directa de precio total contra superficie total."
   ]
  },
  {
   "cell_type": "code",
   "execution_count": 15,
   "metadata": {},
   "outputs": [],
   "source": [
    "#utilizo el campo precio aprox en usd porque el campo precio tiene ruido. Esto lo pudimos ver \n",
    "#en la revisión del tp1. Reemplazo el precio por precio aprox\n",
    "\n",
    "df1[\"precio\"]=df1[\"precio_aprox_usd\"]\n",
    "df1 = df1.drop('precio_aprox_usd', axis=1)\n"
   ]
  },
  {
   "cell_type": "code",
   "execution_count": 16,
   "metadata": {},
   "outputs": [
    {
     "data": {
      "text/plain": [
       "Text(0.5, 1.0, 'Relación de Precio vs Superficie (total y cubierta)')"
      ]
     },
     "execution_count": 16,
     "metadata": {},
     "output_type": "execute_result"
    },
    {
     "data": {
      "image/png": "[encoded data removed]",
      "text/plain": [
       "<Figure size 504x360 with 2 Axes>"
      ]
     },
     "metadata": {
      "needs_background": "light"
     },
     "output_type": "display_data"
    }
   ],
   "source": [
    "df_tmp = df1[['precio','precio_usd_por_m2','total_m2','m2_cubiertos']].copy()\n",
    "df_tmp['total_div_por_m2'] = df_tmp['precio'] / df_tmp['precio_usd_por_m2']\n",
    "\n",
    "plt.figure(figsize=(7,5))\n",
    "sns.heatmap(df_tmp[['total_m2','m2_cubiertos','total_div_por_m2']].corr(), annot=True, annot_kws={\"size\": 18})\n",
    "plt.title('Relación de Precio vs Superficie (total y cubierta)', fontsize=16)"
   ]
  },
  {
   "cell_type": "markdown",
   "metadata": {},
   "source": [
    "Los datos vistos anteriormente me permiten luego calcular el total_m2 para los casos en donde no tengo valor usando el precio y el precio_usd_por_m2"
   ]
  },
  {
   "cell_type": "code",
   "execution_count": 17,
   "metadata": {},
   "outputs": [],
   "source": [
    "#Los casos en donde precio_usd_por_m2== precio agrego null al precio_usd_por_m2 y al precio_por_m2 \n",
    "#para luego ver si lo puedo llenar con la media\n",
    "df1.loc[(df1.precio_usd_por_m2==df1.precio),'precio_usd_por_m2']= np.nan\n",
    "df1.loc[(df1.precio_por_m2==df1.precio),'precio_por_m2']= np.nan"
   ]
  },
  {
   "cell_type": "markdown",
   "metadata": {},
   "source": [
    "### Calculamos el total en m2\n",
    "Calculamos la superficie total basada en el precio / el precio por m2 en dolares. Para los casos en donde este valor es null o cero"
   ]
  },
  {
   "cell_type": "code",
   "execution_count": 18,
   "metadata": {},
   "outputs": [],
   "source": [
    "# SOLO CALCULAMOS SI NO SE PIDE ELIMINAR A LOS NULOS Y 0. SINO LOS ELIMINAMOS COMPLETAMENTE.\n",
    "\n",
    "if ELIMINAR_SUPERFICIES_EN_CERO_Y_NULL == False:\n",
    "    # Creamos un flag que indica si la superficie fue calculada\n",
    "    df1['superficie_era_null'] = 0\n",
    "\n",
    "    # Columnas de Dolares que no sean null pero que la superficie sea null\n",
    "    df_tmp = df1.loc[\n",
    "        (df1['precio'].notnull()) & \n",
    "        (df1['precio_usd_por_m2'].notnull()) &\n",
    "        ((df1[CAMPO_SUPERFICIE].isnull()) | (df1[CAMPO_SUPERFICIE] == 0)) # Que sea nulo o Cero\n",
    "    ].copy()\n",
    "\n",
    "    # Calculamos la superficie\n",
    "    df_tmp['superficie'] = df_tmp['precio'] / df_tmp['precio_usd_por_m2']\n",
    "    \n",
    "    \n",
    "    # Asigno la cuperficie calculada al dataframe original\n",
    "    df1.loc[\n",
    "        (df1['precio'].notnull()) & \n",
    "        (df1['precio_usd_por_m2'].notnull()) &\n",
    "        (df1[CAMPO_SUPERFICIE].isnull()), [CAMPO_SUPERFICIE, 'superficie_era_null']] = [df_tmp['superficie'], 1]\n",
    "\n",
    "else:\n",
    "    df1 = df1.loc[(dataframe[CAMPO_SUPERFICIE].notnull()) | (df1[CAMPO_SUPERFICIE] > 0)]"
   ]
  },
  {
   "cell_type": "markdown",
   "metadata": {},
   "source": [
    "### Obtención de datos desde Descripción y Titulo\n",
    "\n",
    "Intentamos obtener superficies de la descripción y del titulo"
   ]
  },
  {
   "cell_type": "markdown",
   "metadata": {},
   "source": [
    "**Completo el total_m2, los ambientes y habitaciones**\n",
    "1. Armo un DataFrame con la info necesaria de los campos descripción y título.\n",
    "2. Completo el total_m2 para los casos nulos\n",
    "3. Completo las habitaciones nulas.Tomando como criterio que habitaciones==ambientes==dormitorios "
   ]
  },
  {
   "cell_type": "markdown",
   "metadata": {},
   "source": [
    "Completo los faltantes buscando con una expresión regular todo lo que tenga algo relacionado con m2"
   ]
  },
  {
   "cell_type": "code",
   "execution_count": 19,
   "metadata": {},
   "outputs": [],
   "source": [
    "# Solo obtengo de la descripcion si no las voy a borrar\n",
    "if ELIMINAR_SUPERFICIES_EN_CERO_Y_NULL == False:\n",
    "\n",
    "    #Creo la mask para obtener los registros con superficie cubierta total null o en 0\n",
    "    mask = (df1[CAMPO_SUPERFICIE].isnull()) | (df1[CAMPO_SUPERFICIE] == 0)\n",
    "\n",
    "    # Obtengo las superficies de la descripción\n",
    "    tmp = df1.loc[mask,'descripcion'].str.lower().str.extract('(((\\d+)|(\\d+(,|\\.)\\d+))(\\s+|())mts|((\\d+)|(\\d+(,|\\.)\\d+))(\\s+|())m2)', expand=False)\n",
    "\n",
    "    #Establezco los valores al dataframe\n",
    "    df1.loc[mask,[CAMPO_SUPERFICIE]] = tmp[0].str.lower().str.replace('m2','').str.replace('mts','')\n",
    "    \n",
    "    # Obtengo las superficies del titulo\n",
    "    tmp = df1.loc[mask,'titulo'].str.lower().str.extract('(((\\d+)|(\\d+(,|\\.)\\d+))(\\s+|())mts|((\\d+)|(\\d+(,|\\.)\\d+))(\\s+|())m2)', expand=False)\n",
    "\n",
    "    #Establezco los valores al dataframe\n",
    "    df1.loc[mask,[CAMPO_SUPERFICIE]] = tmp[0].str.lower().str.replace('m2','').str.replace('mts','')\n"
   ]
  },
  {
   "cell_type": "code",
   "execution_count": 20,
   "metadata": {},
   "outputs": [
    {
     "data": {
      "text/plain": [
       "'se reemplazaron 6 valores'"
      ]
     },
     "execution_count": 20,
     "metadata": {},
     "output_type": "execute_result"
    }
   ],
   "source": [
    "#si quedo algun campo con una coma \",\" lo corrijo\n",
    "cambio_valor(CAMPO_SUPERFICIE,',','.',df1)"
   ]
  },
  {
   "cell_type": "code",
   "execution_count": 21,
   "metadata": {},
   "outputs": [],
   "source": [
    "#Elimino los que no pude completar\n",
    "df1 = df1.loc[df1[CAMPO_SUPERFICIE].notnull()]"
   ]
  },
  {
   "cell_type": "markdown",
   "metadata": {},
   "source": [
    "### Calculamos el precio\n",
    "Calculamos los precios null haciendo algo parecio al **total_m2**. **precio=total_m2*precio_usd_por_m2**"
   ]
  },
  {
   "cell_type": "code",
   "execution_count": 22,
   "metadata": {},
   "outputs": [],
   "source": [
    "#df1.loc[(df1.precio.isnull()) | (df1.precio==0),'precio']=df1.loc[(df1.precio.isnull()) | (df1.precio==0),'precio_usd_por_m2'] * df1.loc[(df1.precio.isnull()) | (df1.precio==0),'total_m2']"
   ]
  },
  {
   "cell_type": "markdown",
   "metadata": {},
   "source": [
    "## Habitaciones\n",
    "Intentamos obtener la cantidad de ambientes de la descripcion y del titulo utilizando expresiones regulares.<br>"
   ]
  },
  {
   "cell_type": "code",
   "execution_count": 23,
   "metadata": {},
   "outputs": [],
   "source": [
    "#Completo las habitaciones usando titulo y descripcion \n",
    "\n",
    "#mascara para solo completar los null y ceros\n",
    "mask = (df1['habitaciones'].isnull()) | (df1['habitaciones'] == 0)\n",
    "\n",
    "#Expresion regular la pongo en un DataFrame tmp. Esta expresión arma 3 grupos donde cada columna corresponde al grupo empezando\n",
    "\n",
    "#Primero usando ambientes\n",
    "tmp=df1.loc[mask,'descripcion'].str.lower().str.extract(\"(\\d+)(\\s|())amb\",expand=False)\n",
    "\n",
    "#Ahora completo el DataFrame para los casos nulos en ambientes\n",
    "\n",
    "df1.loc[mask,'habitaciones'] = tmp[0]\n",
    "\n",
    "#Completo los casos en donde tmp[0] es null sacando datos de titulo ahora\n",
    "tmp=df1.loc[mask,'titulo'].str.lower().str.extract(\"(\\d+)(\\s|())amb\",expand=False)\n",
    "\n",
    "#Ahora completo el DataFrame para los casos nulos\n",
    "\n",
    "df1.loc[mask,'habitaciones'] = tmp[0]\n",
    "\n",
    "#ahora usando habitaciones\n",
    "tmp=df1.loc[mask,'descripcion'].str.lower().str.extract(\"(\\d+)(\\s|())hab\",expand=False)\n",
    "\n",
    "#Ahora completo el DataFrame para los casos nulos\n",
    "\n",
    "df1.loc[mask,'habitaciones'] = tmp[0]\n",
    "\n",
    "#Completo los casos en donde tmp[0] es null sacando datos de titulo ahora\n",
    "tmp=df1.loc[mask,'titulo'].str.lower().str.extract(\"(\\d+)(\\s|())hab\",expand=False)\n",
    "\n",
    "#Ahora completo el DataFrame para los casos nulos en ambientes\n",
    "df1.loc[mask,'habitaciones'] = tmp[0]\n",
    "\n",
    "#ahora dormitorio\n",
    "tmp=df1.loc[mask,'descripcion'].str.lower().str.extract(\"(\\d+)(\\s|())dormi\",expand=False)\n",
    "\n",
    "#Ahora completo el DataFrame para los casos nulos\n",
    "\n",
    "df1.loc[mask,'habitaciones'] = tmp[0]\n",
    "\n",
    "#Completo los casos en donde tmp[0] es null sacando datos de titulo ahora\n",
    "tmp=df1.loc[mask,'titulo'].str.lower().str.extract(\"(\\d+)(\\s|())dormi\",expand=False)\n",
    "\n",
    "#Ahora completo el DataFrame para los casos nulos en ambientes\n",
    "\n",
    "df1.loc[mask,'habitaciones'] = tmp[0]"
   ]
  },
  {
   "cell_type": "code",
   "execution_count": 24,
   "metadata": {},
   "outputs": [],
   "source": [
    "#Asigno 1 a las propiedades que en su descripción tengan la palabra monoambiente\n",
    "df1.loc[(df1['habitaciones'].isnull()) & (df1['descripcion'].str.lower().str.contains('monoambiente')),'habitaciones'] = 1\n",
    "\n",
    "df1.loc[(df1['habitaciones'].isnull()) & (df1['titulo'].str.lower().str.contains('monoambiente')),'habitaciones'] = 1"
   ]
  },
  {
   "cell_type": "markdown",
   "metadata": {},
   "source": [
    "Imputamos los demas valores que no pudimos obtener de la descripción o el titulo\n",
    "Imputando 1 a los valores nulos, y creando una variable flag que indica al modelo cuales fueron imputados a mano. (hab_was_nan)"
   ]
  },
  {
   "cell_type": "code",
   "execution_count": 25,
   "metadata": {},
   "outputs": [
    {
     "name": "stdout",
     "output_type": "stream",
     "text": [
      "Se imputaron 46636 registros que tenian nulos en habitaciones\n"
     ]
    }
   ],
   "source": [
    "# Imputamos 1 y creamos un flag que indica la imputación\n",
    "imputo_null('habitaciones', df1, 1)\n",
    "\n",
    "# Contamos la cantidad de habitaciones que fueron imputados\n",
    "print('Se imputaron',df1.loc[df1['habitaciones_was_nan'] == True, 'habitaciones_was_nan'].count(),'registros que tenian nulos en habitaciones')\n",
    "\n",
    "# Convertimos habitaciones a int\n",
    "df1['habitaciones'] = df1['habitaciones'].astype(int)"
   ]
  },
  {
   "cell_type": "markdown",
   "metadata": {},
   "source": [
    "### habitaciones con valor 0\n",
    "Tambien encontramos ambientes con el valor 0. Le imputamos 1 y le asignamos el flag como si hubiera sido NaN"
   ]
  },
  {
   "cell_type": "code",
   "execution_count": 26,
   "metadata": {},
   "outputs": [],
   "source": [
    "# Lo marcamos como si hubiera sido NaN y le asignamos el valor 1\n",
    "df1.loc[df1['habitaciones'] == 0, ['habitaciones_was_nan','habitaciones']] = [1, 1]"
   ]
  },
  {
   "cell_type": "markdown",
   "metadata": {},
   "source": [
    "### Imputar Media de Habitaciones\n",
    "Imputamos a las habitaciones que eran nulas, la media de acuerdo a la ubicacion y tipo de propiedad.\n",
    "Para esto creo un campo con la ubicacion completa que sea la concatenacion de **provincia_distrito** + **localidad_barrio**. Además esto me va a servir luego para reducir columnas."
   ]
  },
  {
   "cell_type": "code",
   "execution_count": 27,
   "metadata": {},
   "outputs": [],
   "source": [
    "# Convertimos los campos a string\n",
    "df1['provincia_distrito'] = df1['provincia_distrito'].astype(str)\n",
    "df1['localidad_barrio'] = df1['localidad_barrio'].astype(str)\n",
    "\n",
    "#creo el campo con la ubicación\n",
    "df1['ubicacion']=df1['provincia_distrito'] +'-'+ df1['localidad_barrio']"
   ]
  },
  {
   "cell_type": "code",
   "execution_count": 29,
   "metadata": {},
   "outputs": [],
   "source": [
    "if UTILIZAR_ROOMS:\n",
    "    # Obtenemos las ubicaciones\n",
    "    ubicacion = df1['ubicacion'].unique()\n",
    "\n",
    "    # por cada lugar\n",
    "    for lugar in ubicacion:\n",
    "    \n",
    "        # Obtenemos las propiedades del lugar\n",
    "        df_ubicacion = df1.loc[df1['ubicacion'] == lugar]\n",
    "        \n",
    "        # Obtenemos los tipos de propiedad de este lugar\n",
    "        tipos = df_ubicacion['tipo_propiedad'].unique()\n",
    "        \n",
    "        # por cada tipo en los tipos de propiedad\n",
    "        for tipo in tipos:\n",
    "            \n",
    "            # Obtengo la media\n",
    "            media = df_ubicacion.loc[(df_ubicacion['tipo_propiedad'] == tipo) & (df_ubicacion['habitaciones_was_nan'] == 0), 'habitaciones'].mean()\n",
    "    \n",
    "            if (~np.isnan(media)):\n",
    "                # Se la aplico a las propiedades que habitaciones era null\n",
    "                df1.loc[\n",
    "                    (df1['ubicacion'] == lugar)\n",
    "                    & (df1['tipo_propiedad'] == tipo)\n",
    "                    & (df1['habitaciones_was_nan'] == 1)\n",
    "                , 'habitaciones'] = media"
   ]
  },
  {
   "cell_type": "markdown",
   "metadata": {},
   "source": [
    "### M2 por habitación\n",
    "Creamos una feature que identifica los m2 por habitación, para luego descartar el campo cantidad de habitaciones. Esto nos va a dar un valor con un peso mas relativo a la superficie de cada propiedad. <br>\n",
    "Por último, asignamos -1 al flag que indicaba que era missing, ya que al tener 1 habitación, le da mas peso, cuando en realidad debería darle menos. Con el flag en -1 logramos bajarle el peso a los que tienen una habitación y era null"
   ]
  },
  {
   "cell_type": "code",
   "execution_count": 30,
   "metadata": {},
   "outputs": [],
   "source": [
    "# Si queremos generar columna para meterlo o no a nuestro modelo luego (Ver parametros arriba de todo)\n",
    "if UTILIZAR_ROOMS & CALCULAR_SUPERFICIE_POR_AMBIENTE:\n",
    "    # Calculamos m2 cubiertos / cantidad de habitaciones\n",
    "    df1['m2_por_habitacion'] = df1[CAMPO_SUPERFICIE].astype(float) / df1['habitaciones'].astype(int)\n",
    "    # A los registros que tenian 1 en rooms_was_nan le asignamos -1 para bajarle el peso \n",
    "    df1.loc[df1['habitaciones_was_nan'] == 1, 'habitaciones_was_nan'] = -1\n",
    "    \n",
    "    # Y 1 a los que no eran nan para mentenerle el pero\n",
    "    df1.loc[df1['habitaciones_was_nan'] == 0, 'habitaciones_was_nan'] = 0"
   ]
  },
  {
   "cell_type": "markdown",
   "metadata": {},
   "source": [
    "### Correlación\n",
    "Si utilizamos el parametro de habitaciones y calculamos superficie por habitación, podemos observar que existe una correlación mas fuerte con esta nueva variable, que con la cantidad de habitaciones."
   ]
  },
  {
   "cell_type": "code",
   "execution_count": 31,
   "metadata": {},
   "outputs": [
    {
     "data": {
      "text/html": [
       "<div>\n",
       "<style scoped>\n",
       "    .dataframe tbody tr th:only-of-type {\n",
       "        vertical-align: middle;\n",
       "    }\n",
       "\n",
       "    .dataframe tbody tr th {\n",
       "        vertical-align: top;\n",
       "    }\n",
       "\n",
       "    .dataframe thead th {\n",
       "        text-align: right;\n",
       "    }\n",
       "</style>\n",
       "<table border=\"1\" class=\"dataframe\">\n",
       "  <thead>\n",
       "    <tr style=\"text-align: right;\">\n",
       "      <th></th>\n",
       "      <th>precio</th>\n",
       "      <th>m2_por_habitacion</th>\n",
       "      <th>habitaciones</th>\n",
       "    </tr>\n",
       "  </thead>\n",
       "  <tbody>\n",
       "    <tr>\n",
       "      <th>precio</th>\n",
       "      <td>1.000000</td>\n",
       "      <td>0.222710</td>\n",
       "      <td>0.195088</td>\n",
       "    </tr>\n",
       "    <tr>\n",
       "      <th>m2_por_habitacion</th>\n",
       "      <td>0.222710</td>\n",
       "      <td>1.000000</td>\n",
       "      <td>-0.017599</td>\n",
       "    </tr>\n",
       "    <tr>\n",
       "      <th>habitaciones</th>\n",
       "      <td>0.195088</td>\n",
       "      <td>-0.017599</td>\n",
       "      <td>1.000000</td>\n",
       "    </tr>\n",
       "  </tbody>\n",
       "</table>\n",
       "</div>"
      ],
      "text/plain": [
       "                     precio  m2_por_habitacion  habitaciones\n",
       "precio             1.000000           0.222710      0.195088\n",
       "m2_por_habitacion  0.222710           1.000000     -0.017599\n",
       "habitaciones       0.195088          -0.017599      1.000000"
      ]
     },
     "execution_count": 31,
     "metadata": {},
     "output_type": "execute_result"
    }
   ],
   "source": [
    "df1[['precio','m2_por_habitacion','habitaciones']].corr()"
   ]
  },
  {
   "cell_type": "markdown",
   "metadata": {},
   "source": [
    "## Elimino columnas y asumo el precio en dolares\n",
    "Decidimos utilizar los precios en **DOLARES** por lo que eliminamos las columnas de precios en otras monedas. <br>\n",
    "Además de las columnas que ya no nos aportan valor.\n"
   ]
  },
  {
   "cell_type": "code",
   "execution_count": 32,
   "metadata": {},
   "outputs": [
    {
     "data": {
      "text/html": [
       "<div>\n",
       "<style scoped>\n",
       "    .dataframe tbody tr th:only-of-type {\n",
       "        vertical-align: middle;\n",
       "    }\n",
       "\n",
       "    .dataframe tbody tr th {\n",
       "        vertical-align: top;\n",
       "    }\n",
       "\n",
       "    .dataframe thead th {\n",
       "        text-align: right;\n",
       "    }\n",
       "</style>\n",
       "<table border=\"1\" class=\"dataframe\">\n",
       "  <thead>\n",
       "    <tr style=\"text-align: right;\">\n",
       "      <th></th>\n",
       "      <th>No Nulos</th>\n",
       "      <th>Nulos</th>\n",
       "      <th>% Nulos</th>\n",
       "      <th>Tipo</th>\n",
       "    </tr>\n",
       "  </thead>\n",
       "  <tbody>\n",
       "    <tr>\n",
       "      <th>tipo_propiedad</th>\n",
       "      <td>82386</td>\n",
       "      <td>0</td>\n",
       "      <td>0.000000</td>\n",
       "      <td>object</td>\n",
       "    </tr>\n",
       "    <tr>\n",
       "      <th>habitaciones_was_nan</th>\n",
       "      <td>82386</td>\n",
       "      <td>0</td>\n",
       "      <td>0.000000</td>\n",
       "      <td>int32</td>\n",
       "    </tr>\n",
       "    <tr>\n",
       "      <th>superficie_era_null</th>\n",
       "      <td>82386</td>\n",
       "      <td>0</td>\n",
       "      <td>0.000000</td>\n",
       "      <td>int64</td>\n",
       "    </tr>\n",
       "    <tr>\n",
       "      <th>titulo</th>\n",
       "      <td>82386</td>\n",
       "      <td>0</td>\n",
       "      <td>0.000000</td>\n",
       "      <td>object</td>\n",
       "    </tr>\n",
       "    <tr>\n",
       "      <th>descripcion</th>\n",
       "      <td>82386</td>\n",
       "      <td>0</td>\n",
       "      <td>0.000000</td>\n",
       "      <td>object</td>\n",
       "    </tr>\n",
       "    <tr>\n",
       "      <th>habitaciones</th>\n",
       "      <td>82386</td>\n",
       "      <td>0</td>\n",
       "      <td>0.000000</td>\n",
       "      <td>float64</td>\n",
       "    </tr>\n",
       "    <tr>\n",
       "      <th>ubicacion</th>\n",
       "      <td>82386</td>\n",
       "      <td>0</td>\n",
       "      <td>0.000000</td>\n",
       "      <td>object</td>\n",
       "    </tr>\n",
       "    <tr>\n",
       "      <th>total_m2</th>\n",
       "      <td>82386</td>\n",
       "      <td>0</td>\n",
       "      <td>0.000000</td>\n",
       "      <td>object</td>\n",
       "    </tr>\n",
       "    <tr>\n",
       "      <th>m2_por_habitacion</th>\n",
       "      <td>82386</td>\n",
       "      <td>0</td>\n",
       "      <td>0.000000</td>\n",
       "      <td>float64</td>\n",
       "    </tr>\n",
       "    <tr>\n",
       "      <th>provincia_distrito</th>\n",
       "      <td>82386</td>\n",
       "      <td>0</td>\n",
       "      <td>0.000000</td>\n",
       "      <td>object</td>\n",
       "    </tr>\n",
       "    <tr>\n",
       "      <th>localidad_barrio</th>\n",
       "      <td>82386</td>\n",
       "      <td>0</td>\n",
       "      <td>0.000000</td>\n",
       "      <td>object</td>\n",
       "    </tr>\n",
       "    <tr>\n",
       "      <th>m2_cubiertos</th>\n",
       "      <td>75074</td>\n",
       "      <td>7312</td>\n",
       "      <td>8.875294</td>\n",
       "      <td>float64</td>\n",
       "    </tr>\n",
       "    <tr>\n",
       "      <th>moneda</th>\n",
       "      <td>69382</td>\n",
       "      <td>13004</td>\n",
       "      <td>15.784235</td>\n",
       "      <td>object</td>\n",
       "    </tr>\n",
       "    <tr>\n",
       "      <th>precio</th>\n",
       "      <td>69382</td>\n",
       "      <td>13004</td>\n",
       "      <td>15.784235</td>\n",
       "      <td>float64</td>\n",
       "    </tr>\n",
       "    <tr>\n",
       "      <th>precio_aprox_ars</th>\n",
       "      <td>69382</td>\n",
       "      <td>13004</td>\n",
       "      <td>15.784235</td>\n",
       "      <td>float64</td>\n",
       "    </tr>\n",
       "    <tr>\n",
       "      <th>precio_usd_por_m2</th>\n",
       "      <td>68617</td>\n",
       "      <td>13769</td>\n",
       "      <td>16.712791</td>\n",
       "      <td>float64</td>\n",
       "    </tr>\n",
       "    <tr>\n",
       "      <th>precio_por_m2</th>\n",
       "      <td>63974</td>\n",
       "      <td>18412</td>\n",
       "      <td>22.348457</td>\n",
       "      <td>float64</td>\n",
       "    </tr>\n",
       "    <tr>\n",
       "      <th>lon</th>\n",
       "      <td>47067</td>\n",
       "      <td>35319</td>\n",
       "      <td>42.870148</td>\n",
       "      <td>float64</td>\n",
       "    </tr>\n",
       "    <tr>\n",
       "      <th>lat</th>\n",
       "      <td>47067</td>\n",
       "      <td>35319</td>\n",
       "      <td>42.870148</td>\n",
       "      <td>float64</td>\n",
       "    </tr>\n",
       "    <tr>\n",
       "      <th>expensas</th>\n",
       "      <td>11823</td>\n",
       "      <td>70563</td>\n",
       "      <td>85.649261</td>\n",
       "      <td>float64</td>\n",
       "    </tr>\n",
       "    <tr>\n",
       "      <th>piso</th>\n",
       "      <td>3909</td>\n",
       "      <td>78477</td>\n",
       "      <td>95.255262</td>\n",
       "      <td>float64</td>\n",
       "    </tr>\n",
       "  </tbody>\n",
       "</table>\n",
       "</div>"
      ],
      "text/plain": [
       "                     No Nulos  Nulos    % Nulos     Tipo\n",
       "tipo_propiedad          82386      0   0.000000   object\n",
       "habitaciones_was_nan    82386      0   0.000000    int32\n",
       "superficie_era_null     82386      0   0.000000    int64\n",
       "titulo                  82386      0   0.000000   object\n",
       "descripcion             82386      0   0.000000   object\n",
       "habitaciones            82386      0   0.000000  float64\n",
       "ubicacion               82386      0   0.000000   object\n",
       "total_m2                82386      0   0.000000   object\n",
       "m2_por_habitacion       82386      0   0.000000  float64\n",
       "provincia_distrito      82386      0   0.000000   object\n",
       "localidad_barrio        82386      0   0.000000   object\n",
       "m2_cubiertos            75074   7312   8.875294  float64\n",
       "moneda                  69382  13004  15.784235   object\n",
       "precio                  69382  13004  15.784235  float64\n",
       "precio_aprox_ars        69382  13004  15.784235  float64\n",
       "precio_usd_por_m2       68617  13769  16.712791  float64\n",
       "precio_por_m2           63974  18412  22.348457  float64\n",
       "lon                     47067  35319  42.870148  float64\n",
       "lat                     47067  35319  42.870148  float64\n",
       "expensas                11823  70563  85.649261  float64\n",
       "piso                     3909  78477  95.255262  float64"
      ]
     },
     "execution_count": 32,
     "metadata": {},
     "output_type": "execute_result"
    }
   ],
   "source": [
    "datos_df(df1)"
   ]
  },
  {
   "cell_type": "code",
   "execution_count": 33,
   "metadata": {},
   "outputs": [],
   "source": [
    "# Eliminamos las columnas que no usamos para precios\n",
    "df1 = df1.drop('precio_aprox_ars', axis=1)\n",
    "df1 = df1.drop('precio_por_m2', axis=1)\n",
    "df1 = df1.drop('moneda', axis=1)\n",
    "df1 = df1.drop('descripcion', axis=1)\n",
    "df1 = df1.drop('titulo', axis=1)\n",
    "df1 = df1.drop('lat', axis=1)\n",
    "df1 = df1.drop('lon', axis=1)\n",
    "df1 = df1.drop('m2_cubiertos', axis=1)\n",
    "df1 = df1.drop('expensas', axis=1)\n",
    "df1 = df1.drop('piso', axis=1)\n",
    "df1 = df1.drop('provincia_distrito', axis=1)\n",
    "df1 = df1.drop('localidad_barrio', axis=1)"
   ]
  },
  {
   "cell_type": "markdown",
   "metadata": {},
   "source": [
    "## Comienzo con algo de análisis de datos\n",
    "Observamos los outliers de Precio y Superficie\n",
    "\n",
    "Para eliminar outliers utilizo el criterio del 3 cuartil El criterio de mayor que el tercer cuartil más 1.5 veces el rango intercuartil o menor que el primer cuartil menos 1.5 veces el rango intercuartil surge de la distribución normal. \n",
    "En esa distribución el 99.7% de la población se encuentra en el rango definido por la media (poblacional) más menos 3 veces el desvío estándar (poblacional)."
   ]
  },
  {
   "cell_type": "code",
   "execution_count": 34,
   "metadata": {},
   "outputs": [
    {
     "data": {
      "text/plain": [
       "<matplotlib.collections.PathCollection at 0x251e1fc54a8>"
      ]
     },
     "execution_count": 34,
     "metadata": {},
     "output_type": "execute_result"
    },
    {
     "data": {
      "image/png": "[encoded data removed]",
      "text/plain": [
       "<Figure size 432x288 with 1 Axes>"
      ]
     },
     "metadata": {
      "needs_background": "light"
     },
     "output_type": "display_data"
    }
   ],
   "source": [
    "plt.scatter(x=df1[CAMPO_SUPERFICIE], y=df1['precio'])"
   ]
  },
  {
   "cell_type": "markdown",
   "metadata": {},
   "source": [
    "Observamos las características de estos dos valores"
   ]
  },
  {
   "cell_type": "code",
   "execution_count": 35,
   "metadata": {},
   "outputs": [
    {
     "data": {
      "text/html": [
       "<div>\n",
       "<style scoped>\n",
       "    .dataframe tbody tr th:only-of-type {\n",
       "        vertical-align: middle;\n",
       "    }\n",
       "\n",
       "    .dataframe tbody tr th {\n",
       "        vertical-align: top;\n",
       "    }\n",
       "\n",
       "    .dataframe thead th {\n",
       "        text-align: right;\n",
       "    }\n",
       "</style>\n",
       "<table border=\"1\" class=\"dataframe\">\n",
       "  <thead>\n",
       "    <tr style=\"text-align: right;\">\n",
       "      <th></th>\n",
       "      <th>total_m2</th>\n",
       "      <th>precio</th>\n",
       "    </tr>\n",
       "  </thead>\n",
       "  <tbody>\n",
       "    <tr>\n",
       "      <th>count</th>\n",
       "      <td>82386.000000</td>\n",
       "      <td>6.938200e+04</td>\n",
       "    </tr>\n",
       "    <tr>\n",
       "      <th>mean</th>\n",
       "      <td>236.540005</td>\n",
       "      <td>2.501950e+05</td>\n",
       "    </tr>\n",
       "    <tr>\n",
       "      <th>std</th>\n",
       "      <td>1781.341396</td>\n",
       "      <td>3.919072e+05</td>\n",
       "    </tr>\n",
       "    <tr>\n",
       "      <th>min</th>\n",
       "      <td>1.000000</td>\n",
       "      <td>4.666620e+03</td>\n",
       "    </tr>\n",
       "    <tr>\n",
       "      <th>25%</th>\n",
       "      <td>50.000000</td>\n",
       "      <td>9.287686e+04</td>\n",
       "    </tr>\n",
       "    <tr>\n",
       "      <th>50%</th>\n",
       "      <td>84.000000</td>\n",
       "      <td>1.500000e+05</td>\n",
       "    </tr>\n",
       "    <tr>\n",
       "      <th>75%</th>\n",
       "      <td>200.000000</td>\n",
       "      <td>2.800000e+05</td>\n",
       "    </tr>\n",
       "    <tr>\n",
       "      <th>max</th>\n",
       "      <td>200000.000000</td>\n",
       "      <td>4.654544e+07</td>\n",
       "    </tr>\n",
       "  </tbody>\n",
       "</table>\n",
       "</div>"
      ],
      "text/plain": [
       "            total_m2        precio\n",
       "count   82386.000000  6.938200e+04\n",
       "mean      236.540005  2.501950e+05\n",
       "std      1781.341396  3.919072e+05\n",
       "min         1.000000  4.666620e+03\n",
       "25%        50.000000  9.287686e+04\n",
       "50%        84.000000  1.500000e+05\n",
       "75%       200.000000  2.800000e+05\n",
       "max    200000.000000  4.654544e+07"
      ]
     },
     "execution_count": 35,
     "metadata": {},
     "output_type": "execute_result"
    }
   ],
   "source": [
    "df1['total_m2'] = df1['total_m2'].astype(float)\n",
    "\n",
    "df1.loc[:,['total_m2','precio']].describe()"
   ]
  },
  {
   "cell_type": "markdown",
   "metadata": {},
   "source": [
    "### Superficie de las propiedades\n",
    "Encontramos outliers en total por m2. Para poder tratar correctamente estos, vamos a segmentarlos por ubicacion y tipo de propiedad y luego le aplicamos la media.\n",
    "** Observamos la correlación entre precio y superficie cubierta antes de corregir los outliers **"
   ]
  },
  {
   "cell_type": "code",
   "execution_count": 36,
   "metadata": {},
   "outputs": [
    {
     "data": {
      "text/plain": [
       "(array([0.5, 1.5]), <a list of 2 Text xticklabel objects>)"
      ]
     },
     "execution_count": 36,
     "metadata": {},
     "output_type": "execute_result"
    },
    {
     "data": {
      "image/png": "[encoded data removed]",
      "text/plain": [
       "<Figure size 504x360 with 2 Axes>"
      ]
     },
     "metadata": {
      "needs_background": "light"
     },
     "output_type": "display_data"
    }
   ],
   "source": [
    "# Obtengo la correlación antes de eliminar outliers\n",
    "df_corr_prev_outliers = df1[['total_m2','precio']].corr()\n",
    "\n",
    "# Establezco el tamaño del plot\n",
    "plt.figure(figsize=(7,5))\n",
    "# Creo el heatmap\n",
    "sns.heatmap(df_corr_prev_outliers, annot=True,annot_kws={\"size\": 18})\n",
    "# Establezco el título\n",
    "plt.title('Relación de Precio vs superficie total ', fontsize=16)\n",
    "# Configuro los ejes.\n",
    "plt.yticks(rotation=0, fontsize=14)\n",
    "plt.xticks(fontsize=14)"
   ]
  },
  {
   "cell_type": "markdown",
   "metadata": {},
   "source": [
    "**Eliminamos los outliers de superficie**"
   ]
  },
  {
   "cell_type": "code",
   "execution_count": 37,
   "metadata": {},
   "outputs": [],
   "source": [
    "# Obtengo la media de las propiedades que tienen precio (price_aprox_usd no es nulo)\n",
    "mean = df1.loc[~df1[CAMPO_SUPERFICIE].isnull(), CAMPO_SUPERFICIE].mean()\n",
    "        \n",
    "# Obtengo la desviacion estandar\n",
    "std_dev = df1.loc[~df1[CAMPO_SUPERFICIE].isnull(), CAMPO_SUPERFICIE].std()\n",
    "        \n",
    "if ELIMINAR_OUTLIER_SUPERFICIES:\n",
    "    # Si la media no es nulo\n",
    "    if (~np.isnan(mean)):\n",
    "        \n",
    "            \n",
    "        # Obtengo los outliers para el lugar y tipo de propiedad\n",
    "        df_outliers = df1.loc[(np.abs(df1[CAMPO_SUPERFICIE] - mean) > 3 * std_dev)] # Que esten por encima o debajo de 3 desviaciones std.\n",
    "            \n",
    "        # Los elimino del dataframe original\n",
    "        df1 = df1.drop(df_outliers.index)"
   ]
  },
  {
   "cell_type": "code",
   "execution_count": 38,
   "metadata": {},
   "outputs": [
    {
     "data": {
      "text/plain": [
       "<matplotlib.axes._subplots.AxesSubplot at 0x251d1977518>"
      ]
     },
     "execution_count": 38,
     "metadata": {},
     "output_type": "execute_result"
    },
    {
     "data": {
      "image/png": "[encoded data removed]",
      "text/plain": [
       "<Figure size 432x288 with 2 Axes>"
      ]
     },
     "metadata": {
      "needs_background": "light"
     },
     "output_type": "display_data"
    }
   ],
   "source": [
    "sns.heatmap(df1[[CAMPO_SUPERFICIE,'precio']].corr(), annot=True)"
   ]
  },
  {
   "cell_type": "markdown",
   "metadata": {},
   "source": [
    "Observamos nuevamente la la correlación entre precio y superficie y encontramos que la correlación entre estas mejoró."
   ]
  },
  {
   "cell_type": "markdown",
   "metadata": {},
   "source": [
    "## Precio\n",
    "Observamos outliers en precio y los precios por m2 en dolares lo que los eliminamos para que no formen parte del entrenamiento de nuestro modelo. "
   ]
  },
  {
   "cell_type": "code",
   "execution_count": 39,
   "metadata": {},
   "outputs": [],
   "source": [
    "# Obtengo la media de las propiedades que tienen precio (precio no es nula)\n",
    "mean = df1.loc[~df1['precio_usd_por_m2'].isnull(), 'precio_usd_por_m2'].mean()\n",
    "\n",
    "# Si la configuración lo especifíca, elimino los outliers de precio\n",
    "if ELIMINAR_OUTLIER_PRECIOS:    \n",
    "            \n",
    "    # Si la media no es NaN\n",
    "    if (~np.isnan(mean)):\n",
    "        # Obtengo la desviacion estandar\n",
    "        std_dev = df1.loc[~df1['precio_usd_por_m2'].isnull(), 'precio_usd_por_m2'].std()\n",
    "            \n",
    "        # Obtengo los outliers para el lugar y tipo de propiedad\n",
    "        df_outliers = df1.loc[(np.abs(df1['precio_usd_por_m2'] - mean) > 3 * std_dev)] # Que esten por encima o debajo de 3 desviaciones std.\n",
    "        \n",
    "        # Los elimino del dataframe original\n",
    "        df1 = df1.drop(df_outliers.index)"
   ]
  },
  {
   "cell_type": "code",
   "execution_count": 40,
   "metadata": {},
   "outputs": [],
   "source": [
    "# Obtengo la media de las propiedades que tienen precio (precio no es nula)\n",
    "mean = df1.loc[~df1['precio'].isnull(), 'precio'].mean()\n",
    "\n",
    "# Si la configuración lo especifíca, elimino los outliers de precio\n",
    "if ELIMINAR_OUTLIER_PRECIOS:    \n",
    "            \n",
    "    # Si la media no es NaN\n",
    "    if (~np.isnan(mean)):\n",
    "        # Obtengo la desviacion estandar\n",
    "        std_dev = df1.loc[~df1['precio'].isnull(), 'precio'].std()\n",
    "            \n",
    "        # Obtengo los outliers para el lugar y tipo de propiedad\n",
    "        df_outliers = df1.loc[(np.abs(df1['precio'] - mean) > 3 * std_dev)] # Que esten por encima o debajo de 3 desviaciones std.\n",
    "        \n",
    "        # Los elimino del dataframe original\n",
    "        df1 = df1.drop(df_outliers.index)"
   ]
  },
  {
   "cell_type": "markdown",
   "metadata": {},
   "source": [
    "** Observamos la correlación entre precio y superficie cubierta despues de corregir los outliers **"
   ]
  },
  {
   "cell_type": "code",
   "execution_count": 41,
   "metadata": {},
   "outputs": [
    {
     "data": {
      "text/plain": [
       "<matplotlib.axes._subplots.AxesSubplot at 0x251ce2a1be0>"
      ]
     },
     "execution_count": 41,
     "metadata": {},
     "output_type": "execute_result"
    },
    {
     "data": {
      "image/png": "[encoded data removed]",
      "text/plain": [
       "<Figure size 432x288 with 2 Axes>"
      ]
     },
     "metadata": {
      "needs_background": "light"
     },
     "output_type": "display_data"
    }
   ],
   "source": [
    "sns.heatmap(df1[[CAMPO_SUPERFICIE,'precio']].corr(), annot=True)"
   ]
  },
  {
   "cell_type": "markdown",
   "metadata": {},
   "source": [
    "Veo que hay una mejora sustancial."
   ]
  },
  {
   "cell_type": "markdown",
   "metadata": {},
   "source": [
    "**Estructura final**\n",
    "Puedo probar con predecir precio o precio por m2 en dolares. \n",
    "1. Precio m2 en dolares por lo que se puede ver siempre da correlación negativa contra la superficie. \n",
    "2. Precio su correlación es positiva. \n",
    "3. Primero prueba precio y en otra notebook precio por m2 en dolares y comparo"
   ]
  },
  {
   "cell_type": "code",
   "execution_count": 42,
   "metadata": {},
   "outputs": [],
   "source": [
    "#set limpio sin nulos.\n",
    "dfaux=df1\n",
    "if PRECIO:\n",
    "    #df1=df1.loc[df1.precio.notnull(),:]\n",
    "    df1=df1.loc[df1.precio.notnull(),:]\n",
    "    df1 = df1.drop('precio_usd_por_m2', axis=1)\n",
    "else:\n",
    "    #df1=df1.loc[df1.precio.notnull(),:]\n",
    "    df1=df1.loc[df1.precio_usd_por_m2.notnull(),:]\n",
    "    df1 = df1.drop('precio', axis=1)"
   ]
  },
  {
   "cell_type": "code",
   "execution_count": 43,
   "metadata": {},
   "outputs": [
    {
     "data": {
      "text/html": [
       "<div>\n",
       "<style scoped>\n",
       "    .dataframe tbody tr th:only-of-type {\n",
       "        vertical-align: middle;\n",
       "    }\n",
       "\n",
       "    .dataframe tbody tr th {\n",
       "        vertical-align: top;\n",
       "    }\n",
       "\n",
       "    .dataframe thead th {\n",
       "        text-align: right;\n",
       "    }\n",
       "</style>\n",
       "<table border=\"1\" class=\"dataframe\">\n",
       "  <thead>\n",
       "    <tr style=\"text-align: right;\">\n",
       "      <th></th>\n",
       "      <th>No Nulos</th>\n",
       "      <th>Nulos</th>\n",
       "      <th>% Nulos</th>\n",
       "      <th>Tipo</th>\n",
       "    </tr>\n",
       "  </thead>\n",
       "  <tbody>\n",
       "    <tr>\n",
       "      <th>tipo_propiedad</th>\n",
       "      <td>67155</td>\n",
       "      <td>0</td>\n",
       "      <td>0.0</td>\n",
       "      <td>object</td>\n",
       "    </tr>\n",
       "    <tr>\n",
       "      <th>precio</th>\n",
       "      <td>67155</td>\n",
       "      <td>0</td>\n",
       "      <td>0.0</td>\n",
       "      <td>float64</td>\n",
       "    </tr>\n",
       "    <tr>\n",
       "      <th>total_m2</th>\n",
       "      <td>67155</td>\n",
       "      <td>0</td>\n",
       "      <td>0.0</td>\n",
       "      <td>float64</td>\n",
       "    </tr>\n",
       "    <tr>\n",
       "      <th>habitaciones</th>\n",
       "      <td>67155</td>\n",
       "      <td>0</td>\n",
       "      <td>0.0</td>\n",
       "      <td>float64</td>\n",
       "    </tr>\n",
       "    <tr>\n",
       "      <th>superficie_era_null</th>\n",
       "      <td>67155</td>\n",
       "      <td>0</td>\n",
       "      <td>0.0</td>\n",
       "      <td>int64</td>\n",
       "    </tr>\n",
       "    <tr>\n",
       "      <th>habitaciones_was_nan</th>\n",
       "      <td>67155</td>\n",
       "      <td>0</td>\n",
       "      <td>0.0</td>\n",
       "      <td>int32</td>\n",
       "    </tr>\n",
       "    <tr>\n",
       "      <th>ubicacion</th>\n",
       "      <td>67155</td>\n",
       "      <td>0</td>\n",
       "      <td>0.0</td>\n",
       "      <td>object</td>\n",
       "    </tr>\n",
       "    <tr>\n",
       "      <th>m2_por_habitacion</th>\n",
       "      <td>67155</td>\n",
       "      <td>0</td>\n",
       "      <td>0.0</td>\n",
       "      <td>float64</td>\n",
       "    </tr>\n",
       "  </tbody>\n",
       "</table>\n",
       "</div>"
      ],
      "text/plain": [
       "                     No Nulos Nulos  % Nulos     Tipo\n",
       "tipo_propiedad          67155     0      0.0   object\n",
       "precio                  67155     0      0.0  float64\n",
       "total_m2                67155     0      0.0  float64\n",
       "habitaciones            67155     0      0.0  float64\n",
       "superficie_era_null     67155     0      0.0    int64\n",
       "habitaciones_was_nan    67155     0      0.0    int32\n",
       "ubicacion               67155     0      0.0   object\n",
       "m2_por_habitacion       67155     0      0.0  float64"
      ]
     },
     "execution_count": 43,
     "metadata": {},
     "output_type": "execute_result"
    }
   ],
   "source": [
    "datos_df(df1)"
   ]
  },
  {
   "cell_type": "markdown",
   "metadata": {},
   "source": [
    "# Generación del Modelo\n",
    "\n",
    "## Definición de columnas a utilizar\n",
    "###  Fit\n",
    "Elegimos las columnas para la predicción:<br>\n",
    "* habitaciones o m2_por_habitacion\n",
    "* total_m2\n",
    "* tipo_rpopiedad\n",
    "* ubicacion\n",
    "\n",
    "### Columna label\n",
    "Esta columna la vamos a utilizar para indicar el valor de cada registro\n",
    "* precio o precio_usd_por_m2"
   ]
  },
  {
   "cell_type": "markdown",
   "metadata": {},
   "source": [
    "## Ciudades a predecir\n",
    "Debido a que vamos a predecir valores de una colección específica de datos, solo nos interesa entrenar el modelo con las ciudades que estan dentro de los valores a predecir. El resto los eliminamos del dataset para tener una menor varianza."
   ]
  },
  {
   "cell_type": "code",
   "execution_count": 44,
   "metadata": {},
   "outputs": [],
   "source": [
    "# Cuento la cantidad de propiedades por ciudad. \n",
    "# Utilizo cualquier columna ya que me interesa el valor de filas y no el de alguna columna en particular\n",
    "df_propiedades_por_ubicacion = df1[['ubicacion','tipo_propiedad']].groupby('ubicacion').count()\n",
    "\n",
    "# Cambio el nombre de la columna para no confundir datos\n",
    "df_propiedades_por_ubicacion = df_propiedades_por_ubicacion.rename(index=str,columns={'tipo_propiedad':'cant_props'})\n",
    "\n",
    "\n",
    "# Obtengo los lugares que tienen una cantidad de propiedades mayor a la cantidad de columnas\n",
    "ubicacion_por_modelo = df_propiedades_por_ubicacion.loc[df_propiedades_por_ubicacion['cant_props'] > len(df1.columns)]\n",
    "\n",
    "# Dejamos solo las ciudades que tienen mas propiedades que características\n",
    "modelo_df = df1.loc[df1['ubicacion'].isin(ubicacion_por_modelo.index)]"
   ]
  },
  {
   "cell_type": "code",
   "execution_count": 45,
   "metadata": {},
   "outputs": [],
   "source": [
    "# Cuento la cantidad de propiedades por ciudad. \n",
    "# Utilizo cualquier columna ya que me interesa el valor de filas y no el de alguna columna en particular\n",
    "df_propiedades_por_tipo = df1.groupby(['tipo_propiedad','ubicacion']).count()"
   ]
  },
  {
   "cell_type": "markdown",
   "metadata": {},
   "source": [
    "## Normalizacion\n",
    "**Normalizo los label con log1p**"
   ]
  },
  {
   "cell_type": "code",
   "execution_count": 46,
   "metadata": {},
   "outputs": [],
   "source": [
    "from sklearn.preprocessing import FunctionTransformer\n",
    "\n",
    "# Instancio con log1p\n",
    "#transformer = FunctionTransformer(np.log1p)\n",
    "\n",
    "# Obtengo los valores de precio como un array numpy\n",
    "#precio = modelo_df['precio'].values\n",
    "\n",
    "# Aplico la transformación y la asigno directamente a la columna de precio\n",
    "#modelo_df['precio'] = transformer.transform([precio])[0]"
   ]
  },
  {
   "cell_type": "markdown",
   "metadata": {},
   "source": [
    "## Normalizamos los X con MinMax o Standard Scaler"
   ]
  },
  {
   "cell_type": "code",
   "execution_count": 47,
   "metadata": {},
   "outputs": [
    {
     "name": "stderr",
     "output_type": "stream",
     "text": [
      "C:\\Users\\mesayoni\\AppData\\Local\\Continuum\\anaconda3\\lib\\site-packages\\ipykernel_launcher.py:21: SettingWithCopyWarning: \n",
      "A value is trying to be set on a copy of a slice from a DataFrame.\n",
      "Try using .loc[row_indexer,col_indexer] = value instead\n",
      "\n",
      "See the caveats in the documentation: http://pandas.pydata.org/pandas-docs/stable/indexing.html#indexing-view-versus-copy\n",
      "C:\\Users\\mesayoni\\AppData\\Local\\Continuum\\anaconda3\\lib\\site-packages\\pandas\\core\\indexing.py:543: SettingWithCopyWarning: \n",
      "A value is trying to be set on a copy of a slice from a DataFrame.\n",
      "Try using .loc[row_indexer,col_indexer] = value instead\n",
      "\n",
      "See the caveats in the documentation: http://pandas.pydata.org/pandas-docs/stable/indexing.html#indexing-view-versus-copy\n",
      "  self.obj[item] = s\n"
     ]
    }
   ],
   "source": [
    "from sklearn.preprocessing import MinMaxScaler\n",
    "from sklearn.preprocessing import StandardScaler\n",
    "from sklearn.preprocessing import scale\n",
    "\n",
    "#Uso MinMax o StandardScaler\n",
    "#minmaxscaler_model = StandardScaler()\n",
    "minmaxscaler_model = MinMaxScaler()\n",
    "\n",
    "# Columnas a normalizar\n",
    "columnas= [CAMPO_SUPERFICIE]\n",
    "\n",
    "# Si calcula superficie por ambiente y uso ROOMS\n",
    "if CALCULAR_SUPERFICIE_POR_AMBIENTE & UTILIZAR_ROOMS:\n",
    "    # También normalizar rooms por m2\n",
    "    columnas.append('m2_por_habitacion')\n",
    "    \n",
    "elif UTILIZAR_ROOMS & (~CALCULAR_SUPERFICIE_POR_AMBIENTE):\n",
    "    columnas.append('habitaciones')\n",
    "\n",
    "# Aplico scaler a las columnas elegidas\n",
    "modelo_df[columnas] = minmaxscaler_model.fit_transform(modelo_df[columnas])"
   ]
  },
  {
   "cell_type": "markdown",
   "metadata": {},
   "source": [
    "##  Dummies\n",
    "Convertimos las columnas categórias a columnas Dummy."
   ]
  },
  {
   "cell_type": "markdown",
   "metadata": {},
   "source": [
    "### Tipo de propiedad\n",
    "Obtenemos las dummies de **tipo_propiedad**"
   ]
  },
  {
   "cell_type": "code",
   "execution_count": 48,
   "metadata": {},
   "outputs": [],
   "source": [
    "# Obtenemos las columnas dummies de property_type\n",
    "df_tipo_propiedad = pd.get_dummies(modelo_df['tipo_propiedad'], drop_first=True, prefix='tipo_propiedad')\n",
    "\n",
    "# Agregamos las columnas dummies concatenando el dataframe original con las dummies\n",
    "df_with_dummies = pd.concat([modelo_df, df_tipo_propiedad], axis=1)\n",
    "\n",
    "# Eliminamos la columna tipo_propiedad del dataframe nuevo\n",
    "df_with_dummies = df_with_dummies.drop('tipo_propiedad', axis=1)"
   ]
  },
  {
   "cell_type": "markdown",
   "metadata": {},
   "source": [
    "### Ubicación\n",
    "Obtenemos las dummies de **ubicacion** ."
   ]
  },
  {
   "cell_type": "code",
   "execution_count": 49,
   "metadata": {},
   "outputs": [],
   "source": [
    "# Obtenemos la columna dummies de ubicacion\n",
    "df_ubicacion = pd.get_dummies(modelo_df['ubicacion'], drop_first=True, prefix='ubicacion')\n",
    "    \n",
    "# Agreamos las columnas dummies concatenando el nuevo dataframe con las dummies\n",
    "df_with_dummies = pd.concat([df_with_dummies, df_ubicacion], axis=1)\n",
    "   \n",
    "# Eliminamos la columna place_with_parent_names del nuevo dataframe\n",
    "df_with_dummies = df_with_dummies.drop('ubicacion', axis=1)\n",
    "    \n",
    "# Guardamos el nombre de cada ubicacion en la variable ubicacion\n",
    "ubicacion = df_ubicacion.columns\n"
   ]
  },
  {
   "cell_type": "code",
   "execution_count": 50,
   "metadata": {},
   "outputs": [],
   "source": [
    "#guardo en una columna el valor de los indices para no perderlos\n",
    "df_with_dummies['indices']=df_with_dummies.index"
   ]
  },
  {
   "cell_type": "markdown",
   "metadata": {},
   "source": [
    "## Ubicacion x Superficie\n",
    "Creamos otra colección de features mutiplicando la superficie de la propiedad * el lugar. Esto va a generar un $\\beta$ distinto para cada propiedad, dependiendo del lugar donde está."
   ]
  },
  {
   "cell_type": "code",
   "execution_count": 51,
   "metadata": {},
   "outputs": [],
   "source": [
    "# Obtengo el array de numpy de Superficies\n",
    "arr_superficie = modelo_df[CAMPO_SUPERFICIE].values\n",
    "\n",
    "# La paso de 1 dimension a 2.\n",
    "arr_superficie = arr_superficie[:, None]\n",
    "    \n",
    "# Calculo el producto de cada columna de lugar x la superficie para obtener una columna de superficie para cada lugar.\n",
    "df_mul_ubicacion = pd.DataFrame(df_ubicacion.values * arr_superficie)\n",
    "    \n",
    "#df_mul_places.reset_index(drop=True, inplace=True)\n",
    "df_with_dummies.reset_index(drop=True, inplace=True)\n",
    "    \n",
    "# Le agrego las nuevas columnas al dataframe\n",
    "df_with_dummies = pd.concat( [df_with_dummies, df_mul_ubicacion], axis=1) "
   ]
  },
  {
   "cell_type": "markdown",
   "metadata": {},
   "source": [
    "## Tipo propiedad x Superficie\n",
    "Creamos otra colección de features mutiplicando la superficie de la propiedad * el tipo de propiedad. Esto va a generar un $\\beta$ distinto para cada propiedad, dependiendo del tipo de propiedad."
   ]
  },
  {
   "cell_type": "code",
   "execution_count": 52,
   "metadata": {},
   "outputs": [],
   "source": [
    "# Obtengo el array de numpy de Superficies\n",
    "arr_superficie = modelo_df[CAMPO_SUPERFICIE].values \n",
    "    \n",
    "# La paso de 1 dimension a 2.\n",
    "arr_superficie = arr_superficie[:, None]\n",
    "        \n",
    "# Calculo el producto de cada columna de lugar x la superficie para obtener una columna de superficie para cada lugar.\n",
    "df_mul_tipo_propiedad = pd.DataFrame(df_tipo_propiedad.values * arr_superficie)\n",
    "    \n",
    "#df_mul_property_type.reset_index(drop=True, inplace=True)\n",
    "df_with_dummies.reset_index(drop=True, inplace=True)\n",
    "    \n",
    "# Le agrego las nuevas columnas al datafra,e\n",
    "df_with_dummies = pd.concat( [df_with_dummies, df_mul_tipo_propiedad], axis=1) "
   ]
  },
  {
   "cell_type": "markdown",
   "metadata": {},
   "source": [
    "## Preparación de Features y Labels de Entrenamiento y Test\n",
    "Utilizamos el modelo de Regresión Lineal y lo entrenamos con nuestros datos de entrenamiento"
   ]
  },
  {
   "cell_type": "markdown",
   "metadata": {},
   "source": [
    "### Funciones\n",
    "Separo los datos que tienen precio"
   ]
  },
  {
   "cell_type": "code",
   "execution_count": 53,
   "metadata": {},
   "outputs": [],
   "source": [
    "def get_train_predict_sets(df):\n",
    "    # Guardo las filas que tienen el precio en null\n",
    "    if PRECIO:\n",
    "        df_predict = df.loc[df['precio'].isnull()]\n",
    "    else:\n",
    "        df_predict = df.loc[df['precio_usd_por_m2'].isnull()]\n",
    "    \n",
    "\n",
    "    # Luego, elimino esas filas del dataframe original.\n",
    "    df_train = df.drop(df_predict.index)\n",
    "    \n",
    "    return df_train, df_predict"
   ]
  },
  {
   "cell_type": "code",
   "execution_count": 54,
   "metadata": {},
   "outputs": [],
   "source": [
    "def get_predict_sets(df):\n",
    "    # Guardo las filas que tienen el precio en null\n",
    "    if PRECIO:\n",
    "        df_predict = df.drop('precio', axis=1)\n",
    "        #df_predict = df.drop(df_predict.index)\n",
    "    else:\n",
    "        df_predict = df.drop('precio_usd_por_m2', axis=1)\n",
    "        #df_predict = df.drop(df_predict.index)        \n",
    "\n",
    "    return df_predict"
   ]
  },
  {
   "cell_type": "markdown",
   "metadata": {},
   "source": [
    "**Valores y Labels**\n",
    "Del dataframe, separamos nuestros labels de los valores a utilizar para entrenar"
   ]
  },
  {
   "cell_type": "code",
   "execution_count": 55,
   "metadata": {},
   "outputs": [],
   "source": [
    "def get_features_labels(df):\n",
    "    #Separa las features de los labels de un dataframe y los devuelve en el orden FEATURES, LABELS (X, Y)\n",
    "    if PRECIO:\n",
    "        # Obtengo los labels (precio)\n",
    "        Y = df['precio']\n",
    "\n",
    "        # Obtengo los valores sin los labels\n",
    "        X = df.drop('precio', axis=1)\n",
    "    else:\n",
    "        # Obtengo los labels (precio)\n",
    "        Y = df['precio_usd_por_m2']\n",
    "\n",
    "        # Obtengo los valores sin los labels\n",
    "        X = df.drop('precio_usd_por_m2', axis=1)\n",
    "        \n",
    "    \n",
    "    \n",
    "    return X, Y"
   ]
  },
  {
   "cell_type": "markdown",
   "metadata": {},
   "source": [
    "### Holdout Sets\n",
    "De nuestros datos de entrenamiento con labels conocidos, separamos un porcentaje con el cual entrenaremos el modelo, y otro porcentaje con el cual haremos la validación. Vamos a usar un 70% para el entrenamiento y un 30% para la validación."
   ]
  },
  {
   "cell_type": "code",
   "execution_count": 56,
   "metadata": {},
   "outputs": [],
   "source": [
    "# Utilizamos el método train_test_split de Scikit Learn para separar los datos\n",
    "from sklearn.model_selection import train_test_split\n",
    "\n",
    "def get_houldout_sets(X,Y, random_state, train_size):   \n",
    "    \n",
    "    # obtenemos X e Y de test y entrenamiento.\n",
    "    X_train, X_test, Y_train, Y_test = train_test_split(X, Y, random_state=random_state, train_size=train_size)\n",
    "    \n",
    "    return X_train, X_test, Y_train, Y_test"
   ]
  },
  {
   "cell_type": "markdown",
   "metadata": {},
   "source": [
    "## Entrenamiento y predicción de los valores test para TODAS las Zonas\n",
    "Entrenamos el modelo con todos los valores y verificamos el score"
   ]
  },
  {
   "cell_type": "markdown",
   "metadata": {},
   "source": [
    "### Cross Validation de Modelos"
   ]
  },
  {
   "cell_type": "code",
   "execution_count": 57,
   "metadata": {},
   "outputs": [
    {
     "name": "stderr",
     "output_type": "stream",
     "text": [
      "C:\\Users\\mesayoni\\AppData\\Local\\Continuum\\anaconda3\\lib\\site-packages\\sklearn\\model_selection\\_split.py:2179: FutureWarning: From version 0.21, test_size will always complement train_size unless both are specified.\n",
      "  FutureWarning)\n"
     ]
    }
   ],
   "source": [
    "from sklearn.preprocessing import PolynomialFeatures\n",
    "from scipy.sparse import csr_matrix\n",
    "\n",
    "# Dataframe donde muestro los resultados\n",
    "df_resultados = pd.DataFrame(columns=['Model', 'MSE', 'R^2', 'Alpha'])\n",
    "\n",
    "# Obtengo los dataframe de train y predict\n",
    "df_train, df_predict = get_train_predict_sets(df_with_dummies)\n",
    "\n",
    "# Obtengo los features y labels por separado\n",
    "X, Y = get_features_labels(df_train)\n",
    "\n",
    "#X = PolynomialFeatures().fit_transform(X)\n",
    "\n",
    "\n",
    "# Obtengo los sets de entrenamiento y de test con un 70% de valores de entrenamiento (30% de test)\n",
    "X_train, X_test, Y_train, Y_test = get_houldout_sets(X, Y, random_state=1, train_size=0.70)"
   ]
  },
  {
   "cell_type": "markdown",
   "metadata": {},
   "source": [
    "### Cantidad de registros"
   ]
  },
  {
   "cell_type": "code",
   "execution_count": 58,
   "metadata": {},
   "outputs": [
    {
     "name": "stdout",
     "output_type": "stream",
     "text": [
      "Se entrenarán a los modelos con  46024 registros\n"
     ]
    }
   ],
   "source": [
    "print('Se entrenarán a los modelos con ',len(X_train),'registros')"
   ]
  },
  {
   "cell_type": "markdown",
   "metadata": {},
   "source": [
    "### Regresion lineal"
   ]
  },
  {
   "cell_type": "code",
   "execution_count": 59,
   "metadata": {},
   "outputs": [
    {
     "data": {
      "text/html": [
       "<div>\n",
       "<style scoped>\n",
       "    .dataframe tbody tr th:only-of-type {\n",
       "        vertical-align: middle;\n",
       "    }\n",
       "\n",
       "    .dataframe tbody tr th {\n",
       "        vertical-align: top;\n",
       "    }\n",
       "\n",
       "    .dataframe thead th {\n",
       "        text-align: right;\n",
       "    }\n",
       "</style>\n",
       "<table border=\"1\" class=\"dataframe\">\n",
       "  <thead>\n",
       "    <tr style=\"text-align: right;\">\n",
       "      <th></th>\n",
       "      <th>Model</th>\n",
       "      <th>MSE</th>\n",
       "      <th>R^2</th>\n",
       "      <th>Alpha</th>\n",
       "      <th>Cant. Cols.</th>\n",
       "    </tr>\n",
       "  </thead>\n",
       "  <tbody>\n",
       "    <tr>\n",
       "      <th>0</th>\n",
       "      <td>Linear Regression</td>\n",
       "      <td>1.581126e+10</td>\n",
       "      <td>0.496029</td>\n",
       "      <td>0</td>\n",
       "      <td>720.0</td>\n",
       "    </tr>\n",
       "  </tbody>\n",
       "</table>\n",
       "</div>"
      ],
      "text/plain": [
       "               Model           MSE       R^2 Alpha  Cant. Cols.\n",
       "0  Linear Regression  1.581126e+10  0.496029     0        720.0"
      ]
     },
     "execution_count": 59,
     "metadata": {},
     "output_type": "execute_result"
    }
   ],
   "source": [
    "# Importamos librerias de scikit learn\n",
    "from sklearn import linear_model\n",
    "from sklearn.metrics import accuracy_score\n",
    "from sklearn.model_selection import cross_val_score\n",
    "from sklearn.metrics import mean_squared_error\n",
    "\n",
    "# Instancio el modelo\n",
    "lin_model = linear_model.LinearRegression()\n",
    "# Fiteo el modelo\n",
    "lin_model.fit(X_train, Y_train)\n",
    "# Predigo los valores \n",
    "Y_predicted_linear = lin_model.predict(X_test)\n",
    "# Ejecuto una cross validation de 5 folds\n",
    "mse_score_linear = cross_val_score(lin_model, X, Y, cv=10, scoring='neg_mean_squared_error') * -1\n",
    "r2_score_linear = cross_val_score(lin_model, X, Y, cv=10)\n",
    "\n",
    "\n",
    "# Agrego los resultados al dataframe de resultados\n",
    "row = {'Model':'Linear Regression', 'MSE': mse_score_linear.mean(), 'R^2': r2_score_linear.mean(), 'Alpha': 0, 'Cant. Cols.': len(X_train.columns)}\n",
    "df_resultados = df_resultados.append(row, ignore_index=True)\n",
    "\n",
    "# Muestro los resultados\n",
    "df_resultados"
   ]
  },
  {
   "cell_type": "code",
   "execution_count": 60,
   "metadata": {},
   "outputs": [
    {
     "data": {
      "text/plain": [
       "<matplotlib.collections.PathCollection at 0x251d140cf98>"
      ]
     },
     "execution_count": 60,
     "metadata": {},
     "output_type": "execute_result"
    },
    {
     "data": {
      "image/png": "[encoded data removed]",
      "text/plain": [
       "<Figure size 432x288 with 1 Axes>"
      ]
     },
     "metadata": {
      "needs_background": "light"
     },
     "output_type": "display_data"
    }
   ],
   "source": [
    "plt.scatter(x=Y_test, y =Y_predicted_linear)"
   ]
  },
  {
   "cell_type": "markdown",
   "metadata": {},
   "source": [
    "### Ridge"
   ]
  },
  {
   "cell_type": "code",
   "execution_count": 61,
   "metadata": {},
   "outputs": [
    {
     "data": {
      "text/html": [
       "<div>\n",
       "<style scoped>\n",
       "    .dataframe tbody tr th:only-of-type {\n",
       "        vertical-align: middle;\n",
       "    }\n",
       "\n",
       "    .dataframe tbody tr th {\n",
       "        vertical-align: top;\n",
       "    }\n",
       "\n",
       "    .dataframe thead th {\n",
       "        text-align: right;\n",
       "    }\n",
       "</style>\n",
       "<table border=\"1\" class=\"dataframe\">\n",
       "  <thead>\n",
       "    <tr style=\"text-align: right;\">\n",
       "      <th></th>\n",
       "      <th>Model</th>\n",
       "      <th>MSE</th>\n",
       "      <th>R^2</th>\n",
       "      <th>Alpha</th>\n",
       "      <th>Cant. Cols.</th>\n",
       "    </tr>\n",
       "  </thead>\n",
       "  <tbody>\n",
       "    <tr>\n",
       "      <th>0</th>\n",
       "      <td>Linear Regression</td>\n",
       "      <td>1.581126e+10</td>\n",
       "      <td>0.496029</td>\n",
       "      <td>0</td>\n",
       "      <td>720.0</td>\n",
       "    </tr>\n",
       "    <tr>\n",
       "      <th>1</th>\n",
       "      <td>Ridge</td>\n",
       "      <td>1.421447e+10</td>\n",
       "      <td>0.561553</td>\n",
       "      <td>1</td>\n",
       "      <td>720.0</td>\n",
       "    </tr>\n",
       "  </tbody>\n",
       "</table>\n",
       "</div>"
      ],
      "text/plain": [
       "               Model           MSE       R^2 Alpha  Cant. Cols.\n",
       "0  Linear Regression  1.581126e+10  0.496029     0        720.0\n",
       "1              Ridge  1.421447e+10  0.561553     1        720.0"
      ]
     },
     "execution_count": 61,
     "metadata": {},
     "output_type": "execute_result"
    }
   ],
   "source": [
    "# Instancio el modelo\n",
    "ridge_model = linear_model.RidgeCV(cv=10)\n",
    "# Fiteo el modelo\n",
    "ridge_model_fitted = ridge_model.fit(X_train, Y_train)\n",
    "# Predigo los valores \n",
    "Y_predicted_ridge = ridge_model_fitted.predict(X_test)\n",
    "# Obtengo el score R2\n",
    "r2_score_ridge = ridge_model_fitted.score(X, Y)\n",
    "# Obtengo el MSE\n",
    "mse_score_ridge = mean_squared_error(Y_test, Y_predicted_ridge)\n",
    "\n",
    "\n",
    "# Agrego los resultados al dataframe de resultados\n",
    "row = {'Model':'Ridge', 'MSE': mse_score_ridge.mean(), 'R^2': r2_score_ridge.mean(), 'Alpha': ridge_model_fitted.alpha_, 'Cant. Cols.': len(X_train.columns)}\n",
    "df_resultados = df_resultados.append(row, ignore_index=True)\n",
    "\n",
    "# Muestro los resultados\n",
    "df_resultados"
   ]
  },
  {
   "cell_type": "code",
   "execution_count": 62,
   "metadata": {},
   "outputs": [
    {
     "data": {
      "text/plain": [
       "Text(0.5, 0, 'Valores Reales (con scale)')"
      ]
     },
     "execution_count": 62,
     "metadata": {},
     "output_type": "execute_result"
    },
    {
     "data": {
      "image/png": "[encoded data removed]",
      "text/plain": [
       "<Figure size 576x432 with 1 Axes>"
      ]
     },
     "metadata": {
      "needs_background": "light"
     },
     "output_type": "display_data"
    }
   ],
   "source": [
    "plt.figure(figsize=(8,6))\n",
    "plt.scatter(x=Y_test, y =Y_predicted_ridge)\n",
    "plt.title('Valores predichos Vs. Valores Reales (RIDGE)', fontsize=16)\n",
    "plt.ylabel('Valores Predichos (con scale)')\n",
    "plt.xlabel('Valores Reales (con scale)')"
   ]
  },
  {
   "cell_type": "markdown",
   "metadata": {},
   "source": [
    "### Lasso"
   ]
  },
  {
   "cell_type": "code",
   "execution_count": 63,
   "metadata": {},
   "outputs": [],
   "source": [
    "#np.linspace(0, 1, 100, endpoint=True)"
   ]
  },
  {
   "cell_type": "code",
   "execution_count": 64,
   "metadata": {},
   "outputs": [
    {
     "data": {
      "text/html": [
       "<div>\n",
       "<style scoped>\n",
       "    .dataframe tbody tr th:only-of-type {\n",
       "        vertical-align: middle;\n",
       "    }\n",
       "\n",
       "    .dataframe tbody tr th {\n",
       "        vertical-align: top;\n",
       "    }\n",
       "\n",
       "    .dataframe thead th {\n",
       "        text-align: right;\n",
       "    }\n",
       "</style>\n",
       "<table border=\"1\" class=\"dataframe\">\n",
       "  <thead>\n",
       "    <tr style=\"text-align: right;\">\n",
       "      <th></th>\n",
       "      <th>Model</th>\n",
       "      <th>MSE</th>\n",
       "      <th>R^2</th>\n",
       "      <th>Alpha</th>\n",
       "      <th>Cant. Cols.</th>\n",
       "    </tr>\n",
       "  </thead>\n",
       "  <tbody>\n",
       "    <tr>\n",
       "      <th>0</th>\n",
       "      <td>Linear Regression</td>\n",
       "      <td>1.581126e+10</td>\n",
       "      <td>0.496029</td>\n",
       "      <td>0</td>\n",
       "      <td>720.0</td>\n",
       "    </tr>\n",
       "    <tr>\n",
       "      <th>1</th>\n",
       "      <td>Ridge</td>\n",
       "      <td>1.421447e+10</td>\n",
       "      <td>0.561553</td>\n",
       "      <td>1</td>\n",
       "      <td>720.0</td>\n",
       "    </tr>\n",
       "    <tr>\n",
       "      <th>2</th>\n",
       "      <td>Lasso</td>\n",
       "      <td>3.155169e+10</td>\n",
       "      <td>0.002627</td>\n",
       "      <td>315039</td>\n",
       "      <td>720.0</td>\n",
       "    </tr>\n",
       "  </tbody>\n",
       "</table>\n",
       "</div>"
      ],
      "text/plain": [
       "               Model           MSE       R^2   Alpha  Cant. Cols.\n",
       "0  Linear Regression  1.581126e+10  0.496029       0        720.0\n",
       "1              Ridge  1.421447e+10  0.561553       1        720.0\n",
       "2              Lasso  3.155169e+10  0.002627  315039        720.0"
      ]
     },
     "execution_count": 64,
     "metadata": {},
     "output_type": "execute_result"
    }
   ],
   "source": [
    "# Instancio el modelo\n",
    "#alpha=np.linspace(0.01,1)\n",
    "lasso_model = linear_model.LassoCV(cv=10,max_iter=2000)\n",
    "#Fiteo el modelo\n",
    "lasso_model_fitted = lasso_model.fit(X_train,Y_train)\n",
    "# Predigo los datos\n",
    "Y_predicted_lasso = lasso_model_fitted.predict(X_test)\n",
    "# Obtengo el score R2\n",
    "r2_score_lasso = lasso_model_fitted.score(X, Y)\n",
    "# Obtengo el MSE\n",
    "mse_score_lasso = mean_squared_error(Y_test, Y_predicted_lasso)\n",
    "\n",
    "# Agrego los resultados al dataframe de resultados\n",
    "row = {'Model':'Lasso', 'MSE': mse_score_lasso.mean(), 'R^2':r2_score_lasso.mean(), 'Alpha': lasso_model_fitted.alpha_, 'Cant. Cols.': len(X_train.columns)}\n",
    "df_resultados = df_resultados.append(row, ignore_index=True)\n",
    "\n",
    "# Muestro los resultados\n",
    "df_resultados"
   ]
  },
  {
   "cell_type": "markdown",
   "metadata": {},
   "source": [
    "## Elimino las columnas cuyos coeficientes son cero y pruebo nuevamente\n",
    "Eliminamos las columnas cuyos coeficientes son cero y luego ejecutamos Lasso nuevamente pero guardo una copia del X original para poder aplicarlo a una muestra de 100 luego."
   ]
  },
  {
   "cell_type": "code",
   "execution_count": 65,
   "metadata": {},
   "outputs": [
    {
     "name": "stderr",
     "output_type": "stream",
     "text": [
      "C:\\Users\\mesayoni\\AppData\\Local\\Continuum\\anaconda3\\lib\\site-packages\\sklearn\\model_selection\\_split.py:2179: FutureWarning: From version 0.21, test_size will always complement train_size unless both are specified.\n",
      "  FutureWarning)\n"
     ]
    }
   ],
   "source": [
    "# Guardo el X original y elimino las columnas de X cuyos coeficientes son 0 (cero)\n",
    "X = X[X.columns[np.nonzero(lasso_model_fitted.coef_)]]\n",
    "\n",
    "# Obtengo el test split\n",
    "X_train, X_test, Y_train, Y_test = get_houldout_sets(X, Y, random_state=1, train_size=0.70)"
   ]
  },
  {
   "cell_type": "markdown",
   "metadata": {},
   "source": [
    "### Lasso nuevamente con coeficientes sin cero"
   ]
  },
  {
   "cell_type": "code",
   "execution_count": 66,
   "metadata": {},
   "outputs": [
    {
     "data": {
      "text/html": [
       "<div>\n",
       "<style scoped>\n",
       "    .dataframe tbody tr th:only-of-type {\n",
       "        vertical-align: middle;\n",
       "    }\n",
       "\n",
       "    .dataframe tbody tr th {\n",
       "        vertical-align: top;\n",
       "    }\n",
       "\n",
       "    .dataframe thead th {\n",
       "        text-align: right;\n",
       "    }\n",
       "</style>\n",
       "<table border=\"1\" class=\"dataframe\">\n",
       "  <thead>\n",
       "    <tr style=\"text-align: right;\">\n",
       "      <th></th>\n",
       "      <th>Model</th>\n",
       "      <th>MSE</th>\n",
       "      <th>R^2</th>\n",
       "      <th>Alpha</th>\n",
       "      <th>Cant. Cols.</th>\n",
       "    </tr>\n",
       "  </thead>\n",
       "  <tbody>\n",
       "    <tr>\n",
       "      <th>0</th>\n",
       "      <td>Linear Regression</td>\n",
       "      <td>1.581126e+10</td>\n",
       "      <td>0.496029</td>\n",
       "      <td>0</td>\n",
       "      <td>720.0</td>\n",
       "    </tr>\n",
       "    <tr>\n",
       "      <th>1</th>\n",
       "      <td>Ridge</td>\n",
       "      <td>1.421447e+10</td>\n",
       "      <td>0.561553</td>\n",
       "      <td>1</td>\n",
       "      <td>720.0</td>\n",
       "    </tr>\n",
       "    <tr>\n",
       "      <th>2</th>\n",
       "      <td>Lasso</td>\n",
       "      <td>3.155169e+10</td>\n",
       "      <td>0.002627</td>\n",
       "      <td>315039</td>\n",
       "      <td>720.0</td>\n",
       "    </tr>\n",
       "    <tr>\n",
       "      <th>3</th>\n",
       "      <td>Lasso sin coef 0</td>\n",
       "      <td>3.155169e+10</td>\n",
       "      <td>0.002627</td>\n",
       "      <td>315039</td>\n",
       "      <td>1.0</td>\n",
       "    </tr>\n",
       "  </tbody>\n",
       "</table>\n",
       "</div>"
      ],
      "text/plain": [
       "               Model           MSE       R^2   Alpha  Cant. Cols.\n",
       "0  Linear Regression  1.581126e+10  0.496029       0        720.0\n",
       "1              Ridge  1.421447e+10  0.561553       1        720.0\n",
       "2              Lasso  3.155169e+10  0.002627  315039        720.0\n",
       "3   Lasso sin coef 0  3.155169e+10  0.002627  315039          1.0"
      ]
     },
     "execution_count": 66,
     "metadata": {},
     "output_type": "execute_result"
    }
   ],
   "source": [
    "# Instancio el modelo\n",
    "lasso_model = linear_model.LassoCV(cv=10,max_iter=2000)\n",
    "#Fiteo el modelo\n",
    "lasso_model_fitted = lasso_model.fit(X_train,Y_train)\n",
    "# Predigo los datos\n",
    "Y_predicted_lasso = lasso_model_fitted.predict(X_test)\n",
    "# Obtengo el score R2\n",
    "r2_score_lasso = lasso_model_fitted.score(X, Y)\n",
    "# Obtengo el MSE\n",
    "mse_score_lasso = mean_squared_error(Y_test, Y_predicted_lasso)\n",
    "\n",
    "# Agrego los resultados al dataframe de resultados\n",
    "row = {'Model':'Lasso sin coef 0', 'MSE': mse_score_lasso.mean(), 'R^2':r2_score_lasso.mean(), 'Alpha': lasso_model_fitted.alpha_, 'Cant. Cols.': len(X_train.columns)}\n",
    "df_resultados = df_resultados.append(row, ignore_index=True)\n",
    "\n",
    "# Muestro los resultados\n",
    "df_resultados"
   ]
  },
  {
   "cell_type": "code",
   "execution_count": 67,
   "metadata": {},
   "outputs": [
    {
     "data": {
      "text/plain": [
       "Text(0.5, 0, 'Valores Reales (con scale)')"
      ]
     },
     "execution_count": 67,
     "metadata": {},
     "output_type": "execute_result"
    },
    {
     "data": {
      "image/png": "[encoded data removed]",
      "text/plain": [
       "<Figure size 576x432 with 1 Axes>"
      ]
     },
     "metadata": {
      "needs_background": "light"
     },
     "output_type": "display_data"
    }
   ],
   "source": [
    "plt.figure(figsize=(8,6))\n",
    "plt.scatter(x=Y_test, y =Y_predicted_lasso)\n",
    "plt.title('Valores predichos Vs. Valores Reales (LASSO)', fontsize=16)\n",
    "plt.ylabel('Valores Predichos (con scale)')\n",
    "plt.xlabel('Valores Reales (con scale)')"
   ]
  },
  {
   "cell_type": "markdown",
   "metadata": {},
   "source": [
    "### DataFrame con los resultados\n",
    "Armamos un dataframe que contenga los resultados predichos en cada modelo"
   ]
  },
  {
   "cell_type": "code",
   "execution_count": 68,
   "metadata": {},
   "outputs": [],
   "source": [
    "#  Me guardo los indices originales para poder identificar luego cada fila\n",
    "y_index = Y_test.index\n",
    "# Reinicio los indices para poder unir los Y de tes ty los Y predichos\n",
    "Y_test_indexless = Y_test.reset_index(drop=True)\n",
    "\n",
    "# Concateno los Y de todos los modelos\n",
    "Y_values = pd.DataFrame({'y_real': Y_test_indexless, 'y_linear': Y_predicted_linear ,'y_ridge': Y_predicted_ridge, 'y_lasso': Y_predicted_lasso})\n",
    "\n",
    "#pd.Series(Y_predicted_ridge).describe()\n",
    "# Le asigno el nombre a las columnas\n",
    "#Y_values.columns = ['Y Real','Y Predicted Linear','Y Predicted Ridge', 'Y Predicted Lasso',]"
   ]
  },
  {
   "cell_type": "markdown",
   "metadata": {},
   "source": [
    "### Outliers en las predicciones\n",
    "Encontramos que hay algunos outliers en las predicciones.<br>\n",
    "Vamos a observar los resultados eliminandolos. Para esto debemos realizar varios pasos para asignar los valores predichos al dataframe original."
   ]
  },
  {
   "cell_type": "code",
   "execution_count": 69,
   "metadata": {},
   "outputs": [],
   "source": [
    "# Elimino los outliers de los valores predichos de cada modelo\n",
    "df_result_sin_outliers_lasso = Y_values[np.abs(Y_values['y_lasso']-Y_values['y_lasso'].mean())<=(3*Y_values['y_lasso'].std())].copy()\n",
    "df_result_sin_outliers_ridge = Y_values[np.abs(Y_values['y_ridge']-Y_values['y_ridge'].mean())<=(3*Y_values['y_ridge'].std())].copy()\n",
    "df_result_sin_outliers_linear = Y_values[np.abs(Y_values['y_linear']-Y_values['y_linear'].mean())<=(3*Y_values['y_linear'].std())].copy()\n",
    "\n",
    "# Por ultimo agrego una nueva columna con la diferencia entre lo predicho y lo real\n",
    "df_result_sin_outliers_lasso['result_dif'] = df_result_sin_outliers_lasso['y_real']-df_result_sin_outliers_lasso['y_lasso']\n",
    "df_result_sin_outliers_ridge['result_dif'] = df_result_sin_outliers_ridge['y_real']-df_result_sin_outliers_ridge['y_ridge']\n",
    "df_result_sin_outliers_linear['result_dif'] = df_result_sin_outliers_linear['y_real']-df_result_sin_outliers_linear['y_linear']"
   ]
  },
  {
   "cell_type": "markdown",
   "metadata": {},
   "source": [
    "### Graficamos los resultados sin los outliers de las predicciones"
   ]
  },
  {
   "cell_type": "code",
   "execution_count": 70,
   "metadata": {},
   "outputs": [
    {
     "name": "stderr",
     "output_type": "stream",
     "text": [
      "C:\\Users\\mesayoni\\AppData\\Local\\Continuum\\anaconda3\\lib\\site-packages\\scipy\\stats\\stats.py:1713: FutureWarning: Using a non-tuple sequence for multidimensional indexing is deprecated; use `arr[tuple(seq)]` instead of `arr[seq]`. In the future this will be interpreted as an array index, `arr[np.array(seq)]`, which will result either in an error or a different result.\n",
      "  return np.add.reduce(sorted[indexer] * weights, axis=axis) / sumval\n"
     ]
    },
    {
     "data": {
      "text/plain": [
       "Text(0.5, 0, 'Valores Reales')"
      ]
     },
     "execution_count": 70,
     "metadata": {},
     "output_type": "execute_result"
    },
    {
     "data": {
      "image/png": "[encoded data removed]",
      "text/plain": [
       "<Figure size 1440x1080 with 6 Axes>"
      ]
     },
     "metadata": {
      "needs_background": "light"
     },
     "output_type": "display_data"
    }
   ],
   "source": [
    "# Grafico los valores de Y sin outliers\n",
    "plt.figure(figsize=(20,15))\n",
    "\n",
    "# Defino los ticks con los valores de las colorbar\n",
    "colorbar_ticks = [-5,-4,-3,-2,-1,0,1,2,3,4,5]\n",
    "\n",
    "# LASSO\n",
    "plt.subplot(2,2,1)\n",
    "\n",
    "# Scatter\n",
    "points = plt.scatter(x=df_result_sin_outliers_lasso['y_real'], y=df_result_sin_outliers_lasso['y_lasso'],c=df_result_sin_outliers_lasso['result_dif'], s=75, cmap=\"Spectral_r\", vmin=-5, vmax=5)\n",
    "# Colorbar\n",
    "\n",
    "clbr = plt.colorbar(ticks=colorbar_ticks)\n",
    "clbr.set_label('Diferencia Real - Predicted', fontsize=14)\n",
    "\n",
    "# Regression\n",
    "ax1 = sns.regplot(x=\"y_real\", y=\"y_lasso\", data=df_result_sin_outliers_lasso, scatter=False,)\n",
    "# Establezco los títulos\n",
    "plt.title('Lasso', fontsize=18)\n",
    "plt.ylabel('Valores Predichos', fontsize=14)\n",
    "plt.xlabel('Valores Reales',fontsize=14)\n",
    "\n",
    "# RIDGE\n",
    "plt.subplot(2,2,2)\n",
    "\n",
    "# Scatter\n",
    "points = plt.scatter(x=df_result_sin_outliers_ridge['y_real'], y=df_result_sin_outliers_ridge['y_ridge'],c=df_result_sin_outliers_ridge['result_dif'], s=75, cmap=\"Spectral_r\", vmin=-5, vmax=5)\n",
    "# Colorbar\n",
    "#clbr = plt.colorbar(points)\n",
    "clbr = plt.colorbar(ticks=colorbar_ticks)\n",
    "clbr.set_label('Diferencia Real - Predicted', fontsize=14)\n",
    "# Regression\n",
    "sns.regplot(x=\"y_real\", y=\"y_ridge\", data=df_result_sin_outliers_ridge, scatter=False)\n",
    "# Establezco los títulos\n",
    "plt.suptitle('Valores predichos Vs. Valores Reales', fontsize=20)\n",
    "plt.title('Ridge', fontsize=18)\n",
    "plt.ylabel('Valores Predichos', fontsize=14)\n",
    "plt.xlabel('Valores Reales',fontsize=14)\n",
    "\n",
    "# LINEAR\n",
    "plt.subplot(2,2,3)\n",
    "\n",
    "# Scatter\n",
    "points = plt.scatter(x=df_result_sin_outliers_linear['y_real'], y=df_result_sin_outliers_linear['y_linear'],c=df_result_sin_outliers_linear['result_dif'], s=75, cmap=\"Spectral_r\", vmin=-5, vmax=5)\n",
    "# Colorbar\n",
    "clbr = plt.colorbar(ticks=colorbar_ticks)\n",
    "clbr.set_label('Diferencia Real - Predicted', fontsize=14)\n",
    "# Regression\n",
    "sns.regplot(x=\"y_real\", y=\"y_linear\", data=df_result_sin_outliers_linear, scatter=False)\n",
    "# Establezco los títulos\n",
    "plt.suptitle('Valores predichos Vs. Valores Reales Sin Outliers', fontsize=20)\n",
    "plt.title('Linear Regression', fontsize=18)\n",
    "plt.ylabel('Valores Predichos', fontsize=14)\n",
    "plt.xlabel('Valores Reales',fontsize=14)\n"
   ]
  },
  {
   "cell_type": "code",
   "execution_count": 71,
   "metadata": {},
   "outputs": [
    {
     "data": {
      "text/html": [
       "<div>\n",
       "<style scoped>\n",
       "    .dataframe tbody tr th:only-of-type {\n",
       "        vertical-align: middle;\n",
       "    }\n",
       "\n",
       "    .dataframe tbody tr th {\n",
       "        vertical-align: top;\n",
       "    }\n",
       "\n",
       "    .dataframe thead th {\n",
       "        text-align: right;\n",
       "    }\n",
       "</style>\n",
       "<table border=\"1\" class=\"dataframe\">\n",
       "  <thead>\n",
       "    <tr style=\"text-align: right;\">\n",
       "      <th></th>\n",
       "      <th>y_real</th>\n",
       "      <th>y_linear</th>\n",
       "      <th>y_ridge</th>\n",
       "      <th>y_lasso</th>\n",
       "      <th>result_dif</th>\n",
       "    </tr>\n",
       "  </thead>\n",
       "  <tbody>\n",
       "    <tr>\n",
       "      <th>count</th>\n",
       "      <td>19504.000</td>\n",
       "      <td>19504.000</td>\n",
       "      <td>19504.000</td>\n",
       "      <td>19504.000</td>\n",
       "      <td>19504.000</td>\n",
       "    </tr>\n",
       "    <tr>\n",
       "      <th>mean</th>\n",
       "      <td>203312.312</td>\n",
       "      <td>203428.108</td>\n",
       "      <td>204372.665</td>\n",
       "      <td>209294.924</td>\n",
       "      <td>-1060.353</td>\n",
       "    </tr>\n",
       "    <tr>\n",
       "      <th>std</th>\n",
       "      <td>168004.895</td>\n",
       "      <td>127977.531</td>\n",
       "      <td>115263.820</td>\n",
       "      <td>9538.005</td>\n",
       "      <td>113294.587</td>\n",
       "    </tr>\n",
       "    <tr>\n",
       "      <th>min</th>\n",
       "      <td>5047.530</td>\n",
       "      <td>-341418.692</td>\n",
       "      <td>-83760.949</td>\n",
       "      <td>191841.577</td>\n",
       "      <td>-495420.209</td>\n",
       "    </tr>\n",
       "    <tr>\n",
       "      <th>25%</th>\n",
       "      <td>90761.223</td>\n",
       "      <td>108875.249</td>\n",
       "      <td>112769.101</td>\n",
       "      <td>201095.675</td>\n",
       "      <td>-56185.190</td>\n",
       "    </tr>\n",
       "    <tr>\n",
       "      <th>50%</th>\n",
       "      <td>145000.000</td>\n",
       "      <td>174101.354</td>\n",
       "      <td>186953.302</td>\n",
       "      <td>209515.399</td>\n",
       "      <td>-11986.787</td>\n",
       "    </tr>\n",
       "    <tr>\n",
       "      <th>75%</th>\n",
       "      <td>255000.000</td>\n",
       "      <td>264412.714</td>\n",
       "      <td>271936.480</td>\n",
       "      <td>217388.292</td>\n",
       "      <td>27656.158</td>\n",
       "    </tr>\n",
       "    <tr>\n",
       "      <th>max</th>\n",
       "      <td>1150000.000</td>\n",
       "      <td>1440588.763</td>\n",
       "      <td>597804.405</td>\n",
       "      <td>226337.914</td>\n",
       "      <td>934959.184</td>\n",
       "    </tr>\n",
       "  </tbody>\n",
       "</table>\n",
       "</div>"
      ],
      "text/plain": [
       "           y_real    y_linear    y_ridge    y_lasso  result_dif\n",
       "count   19504.000   19504.000  19504.000  19504.000   19504.000\n",
       "mean   203312.312  203428.108 204372.665 209294.924   -1060.353\n",
       "std    168004.895  127977.531 115263.820   9538.005  113294.587\n",
       "min      5047.530 -341418.692 -83760.949 191841.577 -495420.209\n",
       "25%     90761.223  108875.249 112769.101 201095.675  -56185.190\n",
       "50%    145000.000  174101.354 186953.302 209515.399  -11986.787\n",
       "75%    255000.000  264412.714 271936.480 217388.292   27656.158\n",
       "max   1150000.000 1440588.763 597804.405 226337.914  934959.184"
      ]
     },
     "execution_count": 71,
     "metadata": {},
     "output_type": "execute_result"
    }
   ],
   "source": [
    "pd.set_option('display.float_format', lambda x: '%.3f' % x)\n",
    "df_result_sin_outliers_ridge.describe()"
   ]
  },
  {
   "cell_type": "markdown",
   "metadata": {},
   "source": [
    "**Eligo una muestra 100 del dataset usado originalmente**\n",
    "Es el que tiene las dummies"
   ]
  },
  {
   "cell_type": "code",
   "execution_count": 72,
   "metadata": {},
   "outputs": [],
   "source": [
    "df1_muestra = get_predict_sets(df_with_dummies)\n",
    "\n",
    "#df1_muestra['prediccion']=lasso_model_fitted.predict( df1_muestra[X.columns[np.nonzero(lasso_model_fitted.coef_)]])\n",
    "#df1_muestra['prediccion']=ridge_model_fitted.predict( df1_muestra[X.columns])\n",
    "#df1_muestra[X.columns].head()"
   ]
  },
  {
   "cell_type": "code",
   "execution_count": 73,
   "metadata": {},
   "outputs": [],
   "source": [
    "df1_muestra['prediccion']=ridge_model_fitted.predict(df1_muestra)"
   ]
  },
  {
   "cell_type": "code",
   "execution_count": 74,
   "metadata": {},
   "outputs": [],
   "source": [
    "df_resul=pd.merge(df1_muestra[['prediccion','indices']],dfaux, how='left', left_on=['indices'], right_index=True)"
   ]
  },
  {
   "cell_type": "code",
   "execution_count": 84,
   "metadata": {},
   "outputs": [
    {
     "data": {
      "text/plain": [
       "22718201.44"
      ]
     },
     "execution_count": 84,
     "metadata": {},
     "output_type": "execute_result"
    }
   ],
   "source": [
    "muestra=df_resul.sample(100)\n",
    "muestra['precio'].sum()"
   ]
  },
  {
   "cell_type": "code",
   "execution_count": 75,
   "metadata": {},
   "outputs": [],
   "source": [
    "df_resul['diferencia'] = df_resul['precio'] - df_resul['prediccion']"
   ]
  },
  {
   "cell_type": "code",
   "execution_count": 83,
   "metadata": {},
   "outputs": [
    {
     "data": {
      "text/html": [
       "<div>\n",
       "<style scoped>\n",
       "    .dataframe tbody tr th:only-of-type {\n",
       "        vertical-align: middle;\n",
       "    }\n",
       "\n",
       "    .dataframe tbody tr th {\n",
       "        vertical-align: top;\n",
       "    }\n",
       "\n",
       "    .dataframe thead th {\n",
       "        text-align: right;\n",
       "    }\n",
       "</style>\n",
       "<table border=\"1\" class=\"dataframe\">\n",
       "  <thead>\n",
       "    <tr style=\"text-align: right;\">\n",
       "      <th></th>\n",
       "      <th>precio</th>\n",
       "      <th>prediccion</th>\n",
       "      <th>ubicacion</th>\n",
       "      <th>tipo_propiedad</th>\n",
       "      <th>diferencia</th>\n",
       "    </tr>\n",
       "  </thead>\n",
       "  <tbody>\n",
       "    <tr>\n",
       "      <th>45638</th>\n",
       "      <td>48792.790</td>\n",
       "      <td>49790.139</td>\n",
       "      <td>Santa Fe-Rosario</td>\n",
       "      <td>apartment</td>\n",
       "      <td>-997.349</td>\n",
       "    </tr>\n",
       "    <tr>\n",
       "      <th>63561</th>\n",
       "      <td>117500.000</td>\n",
       "      <td>118490.633</td>\n",
       "      <td>Capital Federal-Villa Urquiza</td>\n",
       "      <td>apartment</td>\n",
       "      <td>-990.633</td>\n",
       "    </tr>\n",
       "    <tr>\n",
       "      <th>56418</th>\n",
       "      <td>44306.100</td>\n",
       "      <td>45295.376</td>\n",
       "      <td>Santa Fe-Rosario</td>\n",
       "      <td>apartment</td>\n",
       "      <td>-989.276</td>\n",
       "    </tr>\n",
       "    <tr>\n",
       "      <th>56376</th>\n",
       "      <td>44306.100</td>\n",
       "      <td>45290.543</td>\n",
       "      <td>Santa Fe-Rosario</td>\n",
       "      <td>apartment</td>\n",
       "      <td>-984.443</td>\n",
       "    </tr>\n",
       "    <tr>\n",
       "      <th>43704</th>\n",
       "      <td>102215.020</td>\n",
       "      <td>103199.064</td>\n",
       "      <td>Capital Federal-Villa Luro</td>\n",
       "      <td>apartment</td>\n",
       "      <td>-984.044</td>\n",
       "    </tr>\n",
       "    <tr>\n",
       "      <th>16095</th>\n",
       "      <td>76000.000</td>\n",
       "      <td>76981.999</td>\n",
       "      <td>Capital Federal-Almagro</td>\n",
       "      <td>apartment</td>\n",
       "      <td>-981.999</td>\n",
       "    </tr>\n",
       "    <tr>\n",
       "      <th>3801</th>\n",
       "      <td>298000.000</td>\n",
       "      <td>298976.258</td>\n",
       "      <td>Bs.As. G.B.A. Zona Norte-Tigre</td>\n",
       "      <td>house</td>\n",
       "      <td>-976.258</td>\n",
       "    </tr>\n",
       "    <tr>\n",
       "      <th>3800</th>\n",
       "      <td>298000.000</td>\n",
       "      <td>298976.179</td>\n",
       "      <td>Bs.As. G.B.A. Zona Norte-Tigre</td>\n",
       "      <td>house</td>\n",
       "      <td>-976.179</td>\n",
       "    </tr>\n",
       "    <tr>\n",
       "      <th>4550</th>\n",
       "      <td>480000.000</td>\n",
       "      <td>480974.637</td>\n",
       "      <td>Bs.As. G.B.A. Zona Norte-San Isidro</td>\n",
       "      <td>house</td>\n",
       "      <td>-974.637</td>\n",
       "    </tr>\n",
       "    <tr>\n",
       "      <th>4549</th>\n",
       "      <td>480000.000</td>\n",
       "      <td>480974.557</td>\n",
       "      <td>Bs.As. G.B.A. Zona Norte-San Isidro</td>\n",
       "      <td>house</td>\n",
       "      <td>-974.557</td>\n",
       "    </tr>\n",
       "    <tr>\n",
       "      <th>62252</th>\n",
       "      <td>350000.000</td>\n",
       "      <td>350973.685</td>\n",
       "      <td>Bs.As. G.B.A. Zona Norte-Tigre</td>\n",
       "      <td>house</td>\n",
       "      <td>-973.685</td>\n",
       "    </tr>\n",
       "    <tr>\n",
       "      <th>4779</th>\n",
       "      <td>42000.000</td>\n",
       "      <td>42972.493</td>\n",
       "      <td>Buenos Aires Costa Atlántica-Mar del Plata</td>\n",
       "      <td>apartment</td>\n",
       "      <td>-972.493</td>\n",
       "    </tr>\n",
       "    <tr>\n",
       "      <th>11189</th>\n",
       "      <td>280000.000</td>\n",
       "      <td>280970.898</td>\n",
       "      <td>Capital Federal-Floresta</td>\n",
       "      <td>house</td>\n",
       "      <td>-970.898</td>\n",
       "    </tr>\n",
       "    <tr>\n",
       "      <th>13634</th>\n",
       "      <td>59000.000</td>\n",
       "      <td>59967.663</td>\n",
       "      <td>Buenos Aires Costa Atlántica-Mar del Plata</td>\n",
       "      <td>PH</td>\n",
       "      <td>-967.663</td>\n",
       "    </tr>\n",
       "    <tr>\n",
       "      <th>37624</th>\n",
       "      <td>75193.850</td>\n",
       "      <td>76159.959</td>\n",
       "      <td>Córdoba-Córdoba</td>\n",
       "      <td>apartment</td>\n",
       "      <td>-966.109</td>\n",
       "    </tr>\n",
       "    <tr>\n",
       "      <th>15944</th>\n",
       "      <td>81665.980</td>\n",
       "      <td>82631.294</td>\n",
       "      <td>Bs.As. G.B.A. Zona Norte-Beccar</td>\n",
       "      <td>apartment</td>\n",
       "      <td>-965.314</td>\n",
       "    </tr>\n",
       "    <tr>\n",
       "      <th>59283</th>\n",
       "      <td>54401.160</td>\n",
       "      <td>55364.737</td>\n",
       "      <td>Santa Fe-Rosario</td>\n",
       "      <td>apartment</td>\n",
       "      <td>-963.577</td>\n",
       "    </tr>\n",
       "    <tr>\n",
       "      <th>59427</th>\n",
       "      <td>92538.060</td>\n",
       "      <td>93501.615</td>\n",
       "      <td>Santa Fe-Rosario</td>\n",
       "      <td>apartment</td>\n",
       "      <td>-963.555</td>\n",
       "    </tr>\n",
       "    <tr>\n",
       "      <th>14742</th>\n",
       "      <td>175000.000</td>\n",
       "      <td>175963.238</td>\n",
       "      <td>Capital Federal-Almagro</td>\n",
       "      <td>apartment</td>\n",
       "      <td>-963.238</td>\n",
       "    </tr>\n",
       "    <tr>\n",
       "      <th>46631</th>\n",
       "      <td>500000.000</td>\n",
       "      <td>500961.621</td>\n",
       "      <td>Bs.As. G.B.A. Zona Norte-General San Martín</td>\n",
       "      <td>store</td>\n",
       "      <td>-961.621</td>\n",
       "    </tr>\n",
       "    <tr>\n",
       "      <th>23998</th>\n",
       "      <td>95000.000</td>\n",
       "      <td>95960.261</td>\n",
       "      <td>Córdoba-Córdoba</td>\n",
       "      <td>apartment</td>\n",
       "      <td>-960.261</td>\n",
       "    </tr>\n",
       "    <tr>\n",
       "      <th>3073</th>\n",
       "      <td>280000.000</td>\n",
       "      <td>280958.629</td>\n",
       "      <td>Bs.As. G.B.A. Zona Sur-Altos de Hudson II</td>\n",
       "      <td>house</td>\n",
       "      <td>-958.629</td>\n",
       "    </tr>\n",
       "    <tr>\n",
       "      <th>14633</th>\n",
       "      <td>44000.000</td>\n",
       "      <td>44954.873</td>\n",
       "      <td>Buenos Aires Costa Atlántica-Mar del Plata</td>\n",
       "      <td>apartment</td>\n",
       "      <td>-954.873</td>\n",
       "    </tr>\n",
       "    <tr>\n",
       "      <th>19727</th>\n",
       "      <td>48231.960</td>\n",
       "      <td>49183.818</td>\n",
       "      <td>Santa Fe-Rosario</td>\n",
       "      <td>apartment</td>\n",
       "      <td>-951.858</td>\n",
       "    </tr>\n",
       "    <tr>\n",
       "      <th>53020</th>\n",
       "      <td>128500.000</td>\n",
       "      <td>129448.234</td>\n",
       "      <td>Mendoza-San Roque</td>\n",
       "      <td>apartment</td>\n",
       "      <td>-948.234</td>\n",
       "    </tr>\n",
       "    <tr>\n",
       "      <th>62923</th>\n",
       "      <td>345000.000</td>\n",
       "      <td>345947.233</td>\n",
       "      <td>Buenos Aires Costa Atlántica-Mar del Plata</td>\n",
       "      <td>house</td>\n",
       "      <td>-947.233</td>\n",
       "    </tr>\n",
       "    <tr>\n",
       "      <th>22181</th>\n",
       "      <td>47110.280</td>\n",
       "      <td>48057.018</td>\n",
       "      <td>Santa Fe-Rosario</td>\n",
       "      <td>apartment</td>\n",
       "      <td>-946.738</td>\n",
       "    </tr>\n",
       "    <tr>\n",
       "      <th>65733</th>\n",
       "      <td>83957.260</td>\n",
       "      <td>84903.571</td>\n",
       "      <td>Córdoba-Córdoba</td>\n",
       "      <td>apartment</td>\n",
       "      <td>-946.311</td>\n",
       "    </tr>\n",
       "    <tr>\n",
       "      <th>46482</th>\n",
       "      <td>160000.000</td>\n",
       "      <td>160944.542</td>\n",
       "      <td>Capital Federal-Flores</td>\n",
       "      <td>apartment</td>\n",
       "      <td>-944.542</td>\n",
       "    </tr>\n",
       "    <tr>\n",
       "      <th>52917</th>\n",
       "      <td>128500.000</td>\n",
       "      <td>129436.429</td>\n",
       "      <td>Mendoza-San Roque</td>\n",
       "      <td>apartment</td>\n",
       "      <td>-936.429</td>\n",
       "    </tr>\n",
       "    <tr>\n",
       "      <th>...</th>\n",
       "      <td>...</td>\n",
       "      <td>...</td>\n",
       "      <td>...</td>\n",
       "      <td>...</td>\n",
       "      <td>...</td>\n",
       "    </tr>\n",
       "    <tr>\n",
       "      <th>47447</th>\n",
       "      <td>165100.000</td>\n",
       "      <td>164166.634</td>\n",
       "      <td>Bs.As. G.B.A. Zona Norte-Olivos</td>\n",
       "      <td>apartment</td>\n",
       "      <td>933.366</td>\n",
       "    </tr>\n",
       "    <tr>\n",
       "      <th>14958</th>\n",
       "      <td>178814.500</td>\n",
       "      <td>177877.342</td>\n",
       "      <td>Bs.As. G.B.A. Zona Norte-San Fernando</td>\n",
       "      <td>apartment</td>\n",
       "      <td>937.158</td>\n",
       "    </tr>\n",
       "    <tr>\n",
       "      <th>1404</th>\n",
       "      <td>104500.000</td>\n",
       "      <td>103562.261</td>\n",
       "      <td>Capital Federal-Villa Urquiza</td>\n",
       "      <td>apartment</td>\n",
       "      <td>937.739</td>\n",
       "    </tr>\n",
       "    <tr>\n",
       "      <th>59709</th>\n",
       "      <td>93005.690</td>\n",
       "      <td>92064.792</td>\n",
       "      <td>Santa Fe-Rosario</td>\n",
       "      <td>apartment</td>\n",
       "      <td>940.898</td>\n",
       "    </tr>\n",
       "    <tr>\n",
       "      <th>31096</th>\n",
       "      <td>158142.730</td>\n",
       "      <td>157200.696</td>\n",
       "      <td>Capital Federal-Flores</td>\n",
       "      <td>apartment</td>\n",
       "      <td>942.034</td>\n",
       "    </tr>\n",
       "    <tr>\n",
       "      <th>23028</th>\n",
       "      <td>142000.000</td>\n",
       "      <td>141052.764</td>\n",
       "      <td>Bs.As. G.B.A. Zona Norte-Benavidez</td>\n",
       "      <td>apartment</td>\n",
       "      <td>947.236</td>\n",
       "    </tr>\n",
       "    <tr>\n",
       "      <th>12619</th>\n",
       "      <td>240000.000</td>\n",
       "      <td>239052.597</td>\n",
       "      <td>Capital Federal-Villa Lugano</td>\n",
       "      <td>house</td>\n",
       "      <td>947.403</td>\n",
       "    </tr>\n",
       "    <tr>\n",
       "      <th>62598</th>\n",
       "      <td>52000.000</td>\n",
       "      <td>51047.568</td>\n",
       "      <td>Buenos Aires Costa Atlántica-Mar del Plata</td>\n",
       "      <td>apartment</td>\n",
       "      <td>952.432</td>\n",
       "    </tr>\n",
       "    <tr>\n",
       "      <th>9539</th>\n",
       "      <td>69000.000</td>\n",
       "      <td>68038.758</td>\n",
       "      <td>Capital Federal-Chacarita</td>\n",
       "      <td>apartment</td>\n",
       "      <td>961.242</td>\n",
       "    </tr>\n",
       "    <tr>\n",
       "      <th>53233</th>\n",
       "      <td>153000.000</td>\n",
       "      <td>152036.363</td>\n",
       "      <td>Bs.As. G.B.A. Zona Norte-Beccar</td>\n",
       "      <td>apartment</td>\n",
       "      <td>963.637</td>\n",
       "    </tr>\n",
       "    <tr>\n",
       "      <th>50568</th>\n",
       "      <td>208000.000</td>\n",
       "      <td>207035.513</td>\n",
       "      <td>Capital Federal-Tribunales</td>\n",
       "      <td>apartment</td>\n",
       "      <td>964.487</td>\n",
       "    </tr>\n",
       "    <tr>\n",
       "      <th>16900</th>\n",
       "      <td>45000.000</td>\n",
       "      <td>44031.706</td>\n",
       "      <td>Buenos Aires Costa Atlántica-Mar del Plata</td>\n",
       "      <td>apartment</td>\n",
       "      <td>968.294</td>\n",
       "    </tr>\n",
       "    <tr>\n",
       "      <th>16875</th>\n",
       "      <td>45000.000</td>\n",
       "      <td>44027.903</td>\n",
       "      <td>Buenos Aires Costa Atlántica-Mar del Plata</td>\n",
       "      <td>apartment</td>\n",
       "      <td>972.097</td>\n",
       "    </tr>\n",
       "    <tr>\n",
       "      <th>3961</th>\n",
       "      <td>95900.000</td>\n",
       "      <td>94926.982</td>\n",
       "      <td>Capital Federal-Caballito</td>\n",
       "      <td>apartment</td>\n",
       "      <td>973.018</td>\n",
       "    </tr>\n",
       "    <tr>\n",
       "      <th>29939</th>\n",
       "      <td>140000.000</td>\n",
       "      <td>139025.117</td>\n",
       "      <td>Capital Federal-Villa Luro</td>\n",
       "      <td>apartment</td>\n",
       "      <td>974.883</td>\n",
       "    </tr>\n",
       "    <tr>\n",
       "      <th>29937</th>\n",
       "      <td>140000.000</td>\n",
       "      <td>139024.958</td>\n",
       "      <td>Capital Federal-Villa Luro</td>\n",
       "      <td>apartment</td>\n",
       "      <td>975.042</td>\n",
       "    </tr>\n",
       "    <tr>\n",
       "      <th>14950</th>\n",
       "      <td>89373.820</td>\n",
       "      <td>88398.619</td>\n",
       "      <td>Bs.As. G.B.A. Zona Norte-San Fernando</td>\n",
       "      <td>apartment</td>\n",
       "      <td>975.201</td>\n",
       "    </tr>\n",
       "    <tr>\n",
       "      <th>62260</th>\n",
       "      <td>145000.000</td>\n",
       "      <td>144023.169</td>\n",
       "      <td>Bs.As. G.B.A. Zona Norte-Beccar</td>\n",
       "      <td>apartment</td>\n",
       "      <td>976.831</td>\n",
       "    </tr>\n",
       "    <tr>\n",
       "      <th>58889</th>\n",
       "      <td>62000.000</td>\n",
       "      <td>61021.898</td>\n",
       "      <td>Bs.As. G.B.A. Zona Sur-La Plata</td>\n",
       "      <td>apartment</td>\n",
       "      <td>978.102</td>\n",
       "    </tr>\n",
       "    <tr>\n",
       "      <th>4277</th>\n",
       "      <td>90000.000</td>\n",
       "      <td>89020.740</td>\n",
       "      <td>Capital Federal-Villa Crespo</td>\n",
       "      <td>apartment</td>\n",
       "      <td>979.260</td>\n",
       "    </tr>\n",
       "    <tr>\n",
       "      <th>30589</th>\n",
       "      <td>220000.000</td>\n",
       "      <td>219019.126</td>\n",
       "      <td>Bs.As. G.B.A. Zona Norte-Nordelta</td>\n",
       "      <td>apartment</td>\n",
       "      <td>980.874</td>\n",
       "    </tr>\n",
       "    <tr>\n",
       "      <th>30587</th>\n",
       "      <td>220000.000</td>\n",
       "      <td>219018.967</td>\n",
       "      <td>Bs.As. G.B.A. Zona Norte-Nordelta</td>\n",
       "      <td>apartment</td>\n",
       "      <td>981.033</td>\n",
       "    </tr>\n",
       "    <tr>\n",
       "      <th>19353</th>\n",
       "      <td>85000.000</td>\n",
       "      <td>84016.282</td>\n",
       "      <td>Buenos Aires Costa Atlántica-Mar del Plata</td>\n",
       "      <td>apartment</td>\n",
       "      <td>983.718</td>\n",
       "    </tr>\n",
       "    <tr>\n",
       "      <th>48590</th>\n",
       "      <td>61900.000</td>\n",
       "      <td>60907.379</td>\n",
       "      <td>Capital Federal-Constitución</td>\n",
       "      <td>apartment</td>\n",
       "      <td>992.621</td>\n",
       "    </tr>\n",
       "    <tr>\n",
       "      <th>26344</th>\n",
       "      <td>116903.000</td>\n",
       "      <td>115907.979</td>\n",
       "      <td>Capital Federal-Colegiales</td>\n",
       "      <td>apartment</td>\n",
       "      <td>995.021</td>\n",
       "    </tr>\n",
       "    <tr>\n",
       "      <th>50400</th>\n",
       "      <td>84125.510</td>\n",
       "      <td>83130.217</td>\n",
       "      <td>Córdoba-Córdoba</td>\n",
       "      <td>apartment</td>\n",
       "      <td>995.293</td>\n",
       "    </tr>\n",
       "    <tr>\n",
       "      <th>11661</th>\n",
       "      <td>86900.000</td>\n",
       "      <td>85904.370</td>\n",
       "      <td>Buenos Aires Costa Atlántica-Mar del Plata</td>\n",
       "      <td>apartment</td>\n",
       "      <td>995.630</td>\n",
       "    </tr>\n",
       "    <tr>\n",
       "      <th>42782</th>\n",
       "      <td>64000.000</td>\n",
       "      <td>63002.392</td>\n",
       "      <td>Capital Federal-Floresta</td>\n",
       "      <td>PH</td>\n",
       "      <td>997.608</td>\n",
       "    </tr>\n",
       "    <tr>\n",
       "      <th>49022</th>\n",
       "      <td>85000.000</td>\n",
       "      <td>84001.087</td>\n",
       "      <td>Capital Federal-San Telmo</td>\n",
       "      <td>apartment</td>\n",
       "      <td>998.913</td>\n",
       "    </tr>\n",
       "    <tr>\n",
       "      <th>25146</th>\n",
       "      <td>102000.000</td>\n",
       "      <td>101000.935</td>\n",
       "      <td>Capital Federal-Caballito</td>\n",
       "      <td>apartment</td>\n",
       "      <td>999.065</td>\n",
       "    </tr>\n",
       "  </tbody>\n",
       "</table>\n",
       "<p>948 rows × 5 columns</p>\n",
       "</div>"
      ],
      "text/plain": [
       "          precio  prediccion                                    ubicacion  \\\n",
       "45638  48792.790   49790.139                             Santa Fe-Rosario   \n",
       "63561 117500.000  118490.633                Capital Federal-Villa Urquiza   \n",
       "56418  44306.100   45295.376                             Santa Fe-Rosario   \n",
       "56376  44306.100   45290.543                             Santa Fe-Rosario   \n",
       "43704 102215.020  103199.064                   Capital Federal-Villa Luro   \n",
       "16095  76000.000   76981.999                      Capital Federal-Almagro   \n",
       "3801  298000.000  298976.258               Bs.As. G.B.A. Zona Norte-Tigre   \n",
       "3800  298000.000  298976.179               Bs.As. G.B.A. Zona Norte-Tigre   \n",
       "4550  480000.000  480974.637          Bs.As. G.B.A. Zona Norte-San Isidro   \n",
       "4549  480000.000  480974.557          Bs.As. G.B.A. Zona Norte-San Isidro   \n",
       "62252 350000.000  350973.685               Bs.As. G.B.A. Zona Norte-Tigre   \n",
       "4779   42000.000   42972.493   Buenos Aires Costa Atlántica-Mar del Plata   \n",
       "11189 280000.000  280970.898                     Capital Federal-Floresta   \n",
       "13634  59000.000   59967.663   Buenos Aires Costa Atlántica-Mar del Plata   \n",
       "37624  75193.850   76159.959                              Córdoba-Córdoba   \n",
       "15944  81665.980   82631.294              Bs.As. G.B.A. Zona Norte-Beccar   \n",
       "59283  54401.160   55364.737                             Santa Fe-Rosario   \n",
       "59427  92538.060   93501.615                             Santa Fe-Rosario   \n",
       "14742 175000.000  175963.238                      Capital Federal-Almagro   \n",
       "46631 500000.000  500961.621  Bs.As. G.B.A. Zona Norte-General San Martín   \n",
       "23998  95000.000   95960.261                              Córdoba-Córdoba   \n",
       "3073  280000.000  280958.629    Bs.As. G.B.A. Zona Sur-Altos de Hudson II   \n",
       "14633  44000.000   44954.873   Buenos Aires Costa Atlántica-Mar del Plata   \n",
       "19727  48231.960   49183.818                             Santa Fe-Rosario   \n",
       "53020 128500.000  129448.234                            Mendoza-San Roque   \n",
       "62923 345000.000  345947.233   Buenos Aires Costa Atlántica-Mar del Plata   \n",
       "22181  47110.280   48057.018                             Santa Fe-Rosario   \n",
       "65733  83957.260   84903.571                              Córdoba-Córdoba   \n",
       "46482 160000.000  160944.542                       Capital Federal-Flores   \n",
       "52917 128500.000  129436.429                            Mendoza-San Roque   \n",
       "...          ...         ...                                          ...   \n",
       "47447 165100.000  164166.634              Bs.As. G.B.A. Zona Norte-Olivos   \n",
       "14958 178814.500  177877.342        Bs.As. G.B.A. Zona Norte-San Fernando   \n",
       "1404  104500.000  103562.261                Capital Federal-Villa Urquiza   \n",
       "59709  93005.690   92064.792                             Santa Fe-Rosario   \n",
       "31096 158142.730  157200.696                       Capital Federal-Flores   \n",
       "23028 142000.000  141052.764           Bs.As. G.B.A. Zona Norte-Benavidez   \n",
       "12619 240000.000  239052.597                 Capital Federal-Villa Lugano   \n",
       "62598  52000.000   51047.568   Buenos Aires Costa Atlántica-Mar del Plata   \n",
       "9539   69000.000   68038.758                    Capital Federal-Chacarita   \n",
       "53233 153000.000  152036.363              Bs.As. G.B.A. Zona Norte-Beccar   \n",
       "50568 208000.000  207035.513                   Capital Federal-Tribunales   \n",
       "16900  45000.000   44031.706   Buenos Aires Costa Atlántica-Mar del Plata   \n",
       "16875  45000.000   44027.903   Buenos Aires Costa Atlántica-Mar del Plata   \n",
       "3961   95900.000   94926.982                    Capital Federal-Caballito   \n",
       "29939 140000.000  139025.117                   Capital Federal-Villa Luro   \n",
       "29937 140000.000  139024.958                   Capital Federal-Villa Luro   \n",
       "14950  89373.820   88398.619        Bs.As. G.B.A. Zona Norte-San Fernando   \n",
       "62260 145000.000  144023.169              Bs.As. G.B.A. Zona Norte-Beccar   \n",
       "58889  62000.000   61021.898              Bs.As. G.B.A. Zona Sur-La Plata   \n",
       "4277   90000.000   89020.740                 Capital Federal-Villa Crespo   \n",
       "30589 220000.000  219019.126            Bs.As. G.B.A. Zona Norte-Nordelta   \n",
       "30587 220000.000  219018.967            Bs.As. G.B.A. Zona Norte-Nordelta   \n",
       "19353  85000.000   84016.282   Buenos Aires Costa Atlántica-Mar del Plata   \n",
       "48590  61900.000   60907.379                 Capital Federal-Constitución   \n",
       "26344 116903.000  115907.979                   Capital Federal-Colegiales   \n",
       "50400  84125.510   83130.217                              Córdoba-Córdoba   \n",
       "11661  86900.000   85904.370   Buenos Aires Costa Atlántica-Mar del Plata   \n",
       "42782  64000.000   63002.392                     Capital Federal-Floresta   \n",
       "49022  85000.000   84001.087                    Capital Federal-San Telmo   \n",
       "25146 102000.000  101000.935                    Capital Federal-Caballito   \n",
       "\n",
       "      tipo_propiedad  diferencia  \n",
       "45638      apartment    -997.349  \n",
       "63561      apartment    -990.633  \n",
       "56418      apartment    -989.276  \n",
       "56376      apartment    -984.443  \n",
       "43704      apartment    -984.044  \n",
       "16095      apartment    -981.999  \n",
       "3801           house    -976.258  \n",
       "3800           house    -976.179  \n",
       "4550           house    -974.637  \n",
       "4549           house    -974.557  \n",
       "62252          house    -973.685  \n",
       "4779       apartment    -972.493  \n",
       "11189          house    -970.898  \n",
       "13634             PH    -967.663  \n",
       "37624      apartment    -966.109  \n",
       "15944      apartment    -965.314  \n",
       "59283      apartment    -963.577  \n",
       "59427      apartment    -963.555  \n",
       "14742      apartment    -963.238  \n",
       "46631          store    -961.621  \n",
       "23998      apartment    -960.261  \n",
       "3073           house    -958.629  \n",
       "14633      apartment    -954.873  \n",
       "19727      apartment    -951.858  \n",
       "53020      apartment    -948.234  \n",
       "62923          house    -947.233  \n",
       "22181      apartment    -946.738  \n",
       "65733      apartment    -946.311  \n",
       "46482      apartment    -944.542  \n",
       "52917      apartment    -936.429  \n",
       "...              ...         ...  \n",
       "47447      apartment     933.366  \n",
       "14958      apartment     937.158  \n",
       "1404       apartment     937.739  \n",
       "59709      apartment     940.898  \n",
       "31096      apartment     942.034  \n",
       "23028      apartment     947.236  \n",
       "12619          house     947.403  \n",
       "62598      apartment     952.432  \n",
       "9539       apartment     961.242  \n",
       "53233      apartment     963.637  \n",
       "50568      apartment     964.487  \n",
       "16900      apartment     968.294  \n",
       "16875      apartment     972.097  \n",
       "3961       apartment     973.018  \n",
       "29939      apartment     974.883  \n",
       "29937      apartment     975.042  \n",
       "14950      apartment     975.201  \n",
       "62260      apartment     976.831  \n",
       "58889      apartment     978.102  \n",
       "4277       apartment     979.260  \n",
       "30589      apartment     980.874  \n",
       "30587      apartment     981.033  \n",
       "19353      apartment     983.718  \n",
       "48590      apartment     992.621  \n",
       "26344      apartment     995.021  \n",
       "50400      apartment     995.293  \n",
       "11661      apartment     995.630  \n",
       "42782             PH     997.608  \n",
       "49022      apartment     998.913  \n",
       "25146      apartment     999.065  \n",
       "\n",
       "[948 rows x 5 columns]"
      ]
     },
     "execution_count": 83,
     "metadata": {},
     "output_type": "execute_result"
    }
   ],
   "source": [
    "df_resul.loc[(df_resul['diferencia']>-1000) & (df_resul['diferencia']<1000), ['precio','prediccion','ubicacion','tipo_propiedad','diferencia']].sort_values(by=['diferencia'])"
   ]
  },
  {
   "cell_type": "code",
   "execution_count": null,
   "metadata": {},
   "outputs": [],
   "source": []
  }
 ],
 "metadata": {
  "kernelspec": {
   "display_name": "Python 3",
   "language": "python",
   "name": "python3"
  },
  "language_info": {
   "codemirror_mode": {
    "name": "ipython",
    "version": 3
   },
   "file_extension": ".py",
   "mimetype": "text/x-python",
   "name": "python",
   "nbconvert_exporter": "python",
   "pygments_lexer": "ipython3",
   "version": "3.7.1"
  }
 },
 "nbformat": 4,
 "nbformat_minor": 2
}
